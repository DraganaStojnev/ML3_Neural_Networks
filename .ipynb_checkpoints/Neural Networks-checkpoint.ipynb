{
 "cells": [
  {
   "cell_type": "markdown",
   "metadata": {},
   "source": [
    "# Importovanje potrebnih paketa"
   ]
  },
  {
   "cell_type": "code",
   "execution_count": 1,
   "metadata": {
    "scrolled": true
   },
   "outputs": [],
   "source": [
    "#  import sys\n",
    "#  !{sys.executable} -m pip install tensorflow"
   ]
  },
  {
   "cell_type": "code",
   "execution_count": 70,
   "metadata": {},
   "outputs": [],
   "source": [
    "import pandas as pd\n",
    "import numpy as np\n",
    "import random\n",
    "import matplotlib.pyplot as plt\n",
    "from tensorflow import keras\n",
    "import tensorflow as tf\n",
    "tf.compat.v1.disable_eager_execution()\n",
    "from tensorflow.keras.models import Sequential\n",
    "from tensorflow.keras.layers import Dense, Activation\n",
    "from tensorflow.keras.callbacks import ReduceLROnPlateau"
   ]
  },
  {
   "cell_type": "markdown",
   "metadata": {},
   "source": [
    "# Učitavanje i preprocesiranje dataseta"
   ]
  },
  {
   "cell_type": "code",
   "execution_count": 47,
   "metadata": {},
   "outputs": [
    {
     "data": {
      "text/html": [
       "<div>\n",
       "<style scoped>\n",
       "    .dataframe tbody tr th:only-of-type {\n",
       "        vertical-align: middle;\n",
       "    }\n",
       "\n",
       "    .dataframe tbody tr th {\n",
       "        vertical-align: top;\n",
       "    }\n",
       "\n",
       "    .dataframe thead th {\n",
       "        text-align: right;\n",
       "    }\n",
       "</style>\n",
       "<table border=\"1\" class=\"dataframe\">\n",
       "  <thead>\n",
       "    <tr style=\"text-align: right;\">\n",
       "      <th></th>\n",
       "      <th>time_left</th>\n",
       "      <th>ct_score</th>\n",
       "      <th>t_score</th>\n",
       "      <th>map</th>\n",
       "      <th>bomb_planted</th>\n",
       "      <th>ct_health</th>\n",
       "      <th>t_health</th>\n",
       "      <th>ct_armor</th>\n",
       "      <th>t_armor</th>\n",
       "      <th>ct_money</th>\n",
       "      <th>...</th>\n",
       "      <th>t_grenade_flashbang</th>\n",
       "      <th>ct_grenade_smokegrenade</th>\n",
       "      <th>t_grenade_smokegrenade</th>\n",
       "      <th>ct_grenade_incendiarygrenade</th>\n",
       "      <th>t_grenade_incendiarygrenade</th>\n",
       "      <th>ct_grenade_molotovgrenade</th>\n",
       "      <th>t_grenade_molotovgrenade</th>\n",
       "      <th>ct_grenade_decoygrenade</th>\n",
       "      <th>t_grenade_decoygrenade</th>\n",
       "      <th>round_winner</th>\n",
       "    </tr>\n",
       "  </thead>\n",
       "  <tbody>\n",
       "    <tr>\n",
       "      <th>0</th>\n",
       "      <td>175.00</td>\n",
       "      <td>0.0</td>\n",
       "      <td>0.0</td>\n",
       "      <td>de_dust2</td>\n",
       "      <td>False</td>\n",
       "      <td>500.0</td>\n",
       "      <td>500.0</td>\n",
       "      <td>0.0</td>\n",
       "      <td>0.0</td>\n",
       "      <td>4000.0</td>\n",
       "      <td>...</td>\n",
       "      <td>0.0</td>\n",
       "      <td>0.0</td>\n",
       "      <td>0.0</td>\n",
       "      <td>0.0</td>\n",
       "      <td>0.0</td>\n",
       "      <td>0.0</td>\n",
       "      <td>0.0</td>\n",
       "      <td>0.0</td>\n",
       "      <td>0.0</td>\n",
       "      <td>CT</td>\n",
       "    </tr>\n",
       "    <tr>\n",
       "      <th>1</th>\n",
       "      <td>156.03</td>\n",
       "      <td>0.0</td>\n",
       "      <td>0.0</td>\n",
       "      <td>de_dust2</td>\n",
       "      <td>False</td>\n",
       "      <td>500.0</td>\n",
       "      <td>500.0</td>\n",
       "      <td>400.0</td>\n",
       "      <td>300.0</td>\n",
       "      <td>600.0</td>\n",
       "      <td>...</td>\n",
       "      <td>0.0</td>\n",
       "      <td>0.0</td>\n",
       "      <td>2.0</td>\n",
       "      <td>0.0</td>\n",
       "      <td>0.0</td>\n",
       "      <td>0.0</td>\n",
       "      <td>0.0</td>\n",
       "      <td>0.0</td>\n",
       "      <td>0.0</td>\n",
       "      <td>CT</td>\n",
       "    </tr>\n",
       "    <tr>\n",
       "      <th>2</th>\n",
       "      <td>96.03</td>\n",
       "      <td>0.0</td>\n",
       "      <td>0.0</td>\n",
       "      <td>de_dust2</td>\n",
       "      <td>False</td>\n",
       "      <td>391.0</td>\n",
       "      <td>400.0</td>\n",
       "      <td>294.0</td>\n",
       "      <td>200.0</td>\n",
       "      <td>750.0</td>\n",
       "      <td>...</td>\n",
       "      <td>0.0</td>\n",
       "      <td>0.0</td>\n",
       "      <td>2.0</td>\n",
       "      <td>0.0</td>\n",
       "      <td>0.0</td>\n",
       "      <td>0.0</td>\n",
       "      <td>0.0</td>\n",
       "      <td>0.0</td>\n",
       "      <td>0.0</td>\n",
       "      <td>CT</td>\n",
       "    </tr>\n",
       "    <tr>\n",
       "      <th>3</th>\n",
       "      <td>76.03</td>\n",
       "      <td>0.0</td>\n",
       "      <td>0.0</td>\n",
       "      <td>de_dust2</td>\n",
       "      <td>False</td>\n",
       "      <td>391.0</td>\n",
       "      <td>400.0</td>\n",
       "      <td>294.0</td>\n",
       "      <td>200.0</td>\n",
       "      <td>750.0</td>\n",
       "      <td>...</td>\n",
       "      <td>0.0</td>\n",
       "      <td>0.0</td>\n",
       "      <td>0.0</td>\n",
       "      <td>0.0</td>\n",
       "      <td>0.0</td>\n",
       "      <td>0.0</td>\n",
       "      <td>0.0</td>\n",
       "      <td>0.0</td>\n",
       "      <td>0.0</td>\n",
       "      <td>CT</td>\n",
       "    </tr>\n",
       "    <tr>\n",
       "      <th>4</th>\n",
       "      <td>174.97</td>\n",
       "      <td>1.0</td>\n",
       "      <td>0.0</td>\n",
       "      <td>de_dust2</td>\n",
       "      <td>False</td>\n",
       "      <td>500.0</td>\n",
       "      <td>500.0</td>\n",
       "      <td>192.0</td>\n",
       "      <td>0.0</td>\n",
       "      <td>18350.0</td>\n",
       "      <td>...</td>\n",
       "      <td>0.0</td>\n",
       "      <td>0.0</td>\n",
       "      <td>0.0</td>\n",
       "      <td>0.0</td>\n",
       "      <td>0.0</td>\n",
       "      <td>0.0</td>\n",
       "      <td>0.0</td>\n",
       "      <td>0.0</td>\n",
       "      <td>0.0</td>\n",
       "      <td>CT</td>\n",
       "    </tr>\n",
       "  </tbody>\n",
       "</table>\n",
       "<p>5 rows × 97 columns</p>\n",
       "</div>"
      ],
      "text/plain": [
       "   time_left  ct_score  t_score       map  bomb_planted  ct_health  t_health  \\\n",
       "0     175.00       0.0      0.0  de_dust2         False      500.0     500.0   \n",
       "1     156.03       0.0      0.0  de_dust2         False      500.0     500.0   \n",
       "2      96.03       0.0      0.0  de_dust2         False      391.0     400.0   \n",
       "3      76.03       0.0      0.0  de_dust2         False      391.0     400.0   \n",
       "4     174.97       1.0      0.0  de_dust2         False      500.0     500.0   \n",
       "\n",
       "   ct_armor  t_armor  ct_money  ...  t_grenade_flashbang  \\\n",
       "0       0.0      0.0    4000.0  ...                  0.0   \n",
       "1     400.0    300.0     600.0  ...                  0.0   \n",
       "2     294.0    200.0     750.0  ...                  0.0   \n",
       "3     294.0    200.0     750.0  ...                  0.0   \n",
       "4     192.0      0.0   18350.0  ...                  0.0   \n",
       "\n",
       "   ct_grenade_smokegrenade  t_grenade_smokegrenade  \\\n",
       "0                      0.0                     0.0   \n",
       "1                      0.0                     2.0   \n",
       "2                      0.0                     2.0   \n",
       "3                      0.0                     0.0   \n",
       "4                      0.0                     0.0   \n",
       "\n",
       "   ct_grenade_incendiarygrenade  t_grenade_incendiarygrenade  \\\n",
       "0                           0.0                          0.0   \n",
       "1                           0.0                          0.0   \n",
       "2                           0.0                          0.0   \n",
       "3                           0.0                          0.0   \n",
       "4                           0.0                          0.0   \n",
       "\n",
       "   ct_grenade_molotovgrenade  t_grenade_molotovgrenade  \\\n",
       "0                        0.0                       0.0   \n",
       "1                        0.0                       0.0   \n",
       "2                        0.0                       0.0   \n",
       "3                        0.0                       0.0   \n",
       "4                        0.0                       0.0   \n",
       "\n",
       "   ct_grenade_decoygrenade  t_grenade_decoygrenade  round_winner  \n",
       "0                      0.0                     0.0            CT  \n",
       "1                      0.0                     0.0            CT  \n",
       "2                      0.0                     0.0            CT  \n",
       "3                      0.0                     0.0            CT  \n",
       "4                      0.0                     0.0            CT  \n",
       "\n",
       "[5 rows x 97 columns]"
      ]
     },
     "execution_count": 47,
     "metadata": {},
     "output_type": "execute_result"
    }
   ],
   "source": [
    "dataset = pd.read_csv(\"csgo_round_snapshots.csv\")\n",
    "dataset.head()"
   ]
  },
  {
   "cell_type": "code",
   "execution_count": 48,
   "metadata": {},
   "outputs": [
    {
     "name": "stdout",
     "output_type": "stream",
     "text": [
      "Shape before cleaning: (122410, 97)\n",
      "Shape after cleaning: (122410, 97)\n"
     ]
    }
   ],
   "source": [
    "print(\"Shape before cleaning:\", dataset.shape)\n",
    "dataset.dropna(inplace=True)\n",
    "dataset.reset_index(drop=True, inplace=True)\n",
    "print(\"Shape after cleaning:\", dataset.shape)"
   ]
  },
  {
   "cell_type": "code",
   "execution_count": 49,
   "metadata": {},
   "outputs": [],
   "source": [
    "def clean(column_name):    \n",
    "    \"\"\"Make list from all values in column.\"\"\"\n",
    "    name = set()\n",
    "    for name_string in dataset[column_name]:\n",
    "        name.update(name_string.split(','))\n",
    "    name = sorted(name)\n",
    "    return name\n",
    "\n",
    "\n",
    "def plot_column(column_name, n_elem_display=0):\n",
    "    \"\"\" Plot the most frequently values in column.\"\"\"\n",
    "\n",
    "    name = clean(column_name)\n",
    "    dummy_name = pd.DataFrame()\n",
    "    for n in name:\n",
    "        dummy_name[n] = [int(n in nm.split(',')) for nm in dataset[column_name]]\n",
    "\n",
    "    namelist = [n for n in name]\n",
    "    nlt = dummy_name[namelist].sum()\n",
    "    nlt = nlt.sort_values(axis=0, ascending=False)\n",
    "    if n_elem_display != 0:\n",
    "        return nlt[:n_elem_display].plot(kind=\"bar\", figsize=(10, 10))\n",
    "    else:\n",
    "        return nlt[:].plot(kind=\"bar\", figsize=(10, 5))"
   ]
  },
  {
   "cell_type": "code",
   "execution_count": 50,
   "metadata": {},
   "outputs": [
    {
     "data": {
      "text/plain": [
       "<AxesSubplot:>"
      ]
     },
     "execution_count": 50,
     "metadata": {},
     "output_type": "execute_result"
    },
    {
     "data": {
      "image/png": "[encoded data removed]",
      "text/plain": [
       "<Figure size 720x360 with 1 Axes>"
      ]
     },
     "metadata": {
      "needs_background": "light"
     },
     "output_type": "display_data"
    }
   ],
   "source": [
    "plot_column('map')"
   ]
  },
  {
   "cell_type": "code",
   "execution_count": 51,
   "metadata": {},
   "outputs": [
    {
     "data": {
      "text/plain": [
       "<AxesSubplot:>"
      ]
     },
     "execution_count": 51,
     "metadata": {},
     "output_type": "execute_result"
    },
    {
     "data": {
      "image/png": "[encoded data removed]",
      "text/plain": [
       "<Figure size 720x360 with 1 Axes>"
      ]
     },
     "metadata": {
      "needs_background": "light"
     },
     "output_type": "display_data"
    }
   ],
   "source": [
    "plot_column('round_winner')"
   ]
  },
  {
   "cell_type": "code",
   "execution_count": 52,
   "metadata": {},
   "outputs": [],
   "source": [
    "dataset = pd.get_dummies(dataset,prefix=['map'], columns =['map'])"
   ]
  },
  {
   "cell_type": "code",
   "execution_count": 53,
   "metadata": {},
   "outputs": [
    {
     "name": "stderr",
     "output_type": "stream",
     "text": [
      "c:\\users\\admin200918\\appdata\\local\\programs\\python\\python37\\lib\\site-packages\\ipykernel_launcher.py:3: SettingWithCopyWarning: \n",
      "A value is trying to be set on a copy of a slice from a DataFrame\n",
      "\n",
      "See the caveats in the documentation: https://pandas.pydata.org/pandas-docs/stable/user_guide/indexing.html#returning-a-view-versus-a-copy\n",
      "  This is separate from the ipykernel package so we can avoid doing imports until\n",
      "c:\\users\\admin200918\\appdata\\local\\programs\\python\\python37\\lib\\site-packages\\ipykernel_launcher.py:5: SettingWithCopyWarning: \n",
      "A value is trying to be set on a copy of a slice from a DataFrame\n",
      "\n",
      "See the caveats in the documentation: https://pandas.pydata.org/pandas-docs/stable/user_guide/indexing.html#returning-a-view-versus-a-copy\n",
      "  \"\"\"\n"
     ]
    }
   ],
   "source": [
    "for i in range(dataset.shape[0]):\n",
    "    if dataset['round_winner'][i] == 'CT':\n",
    "        dataset['round_winner'][i] = 1\n",
    "    else:\n",
    "        dataset['round_winner'][i] = 0"
   ]
  },
  {
   "cell_type": "code",
   "execution_count": 54,
   "metadata": {},
   "outputs": [
    {
     "data": {
      "text/html": [
       "<div>\n",
       "<style scoped>\n",
       "    .dataframe tbody tr th:only-of-type {\n",
       "        vertical-align: middle;\n",
       "    }\n",
       "\n",
       "    .dataframe tbody tr th {\n",
       "        vertical-align: top;\n",
       "    }\n",
       "\n",
       "    .dataframe thead th {\n",
       "        text-align: right;\n",
       "    }\n",
       "</style>\n",
       "<table border=\"1\" class=\"dataframe\">\n",
       "  <thead>\n",
       "    <tr style=\"text-align: right;\">\n",
       "      <th></th>\n",
       "      <th>time_left</th>\n",
       "      <th>ct_score</th>\n",
       "      <th>t_score</th>\n",
       "      <th>bomb_planted</th>\n",
       "      <th>ct_health</th>\n",
       "      <th>t_health</th>\n",
       "      <th>ct_armor</th>\n",
       "      <th>t_armor</th>\n",
       "      <th>ct_money</th>\n",
       "      <th>t_money</th>\n",
       "      <th>...</th>\n",
       "      <th>t_grenade_decoygrenade</th>\n",
       "      <th>round_winner</th>\n",
       "      <th>map_de_cache</th>\n",
       "      <th>map_de_dust2</th>\n",
       "      <th>map_de_inferno</th>\n",
       "      <th>map_de_mirage</th>\n",
       "      <th>map_de_nuke</th>\n",
       "      <th>map_de_overpass</th>\n",
       "      <th>map_de_train</th>\n",
       "      <th>map_de_vertigo</th>\n",
       "    </tr>\n",
       "  </thead>\n",
       "  <tbody>\n",
       "    <tr>\n",
       "      <th>0</th>\n",
       "      <td>175.00</td>\n",
       "      <td>0.0</td>\n",
       "      <td>0.0</td>\n",
       "      <td>False</td>\n",
       "      <td>500.0</td>\n",
       "      <td>500.0</td>\n",
       "      <td>0.0</td>\n",
       "      <td>0.0</td>\n",
       "      <td>4000.0</td>\n",
       "      <td>4000.0</td>\n",
       "      <td>...</td>\n",
       "      <td>0.0</td>\n",
       "      <td>1</td>\n",
       "      <td>0</td>\n",
       "      <td>1</td>\n",
       "      <td>0</td>\n",
       "      <td>0</td>\n",
       "      <td>0</td>\n",
       "      <td>0</td>\n",
       "      <td>0</td>\n",
       "      <td>0</td>\n",
       "    </tr>\n",
       "    <tr>\n",
       "      <th>1</th>\n",
       "      <td>156.03</td>\n",
       "      <td>0.0</td>\n",
       "      <td>0.0</td>\n",
       "      <td>False</td>\n",
       "      <td>500.0</td>\n",
       "      <td>500.0</td>\n",
       "      <td>400.0</td>\n",
       "      <td>300.0</td>\n",
       "      <td>600.0</td>\n",
       "      <td>650.0</td>\n",
       "      <td>...</td>\n",
       "      <td>0.0</td>\n",
       "      <td>1</td>\n",
       "      <td>0</td>\n",
       "      <td>1</td>\n",
       "      <td>0</td>\n",
       "      <td>0</td>\n",
       "      <td>0</td>\n",
       "      <td>0</td>\n",
       "      <td>0</td>\n",
       "      <td>0</td>\n",
       "    </tr>\n",
       "    <tr>\n",
       "      <th>2</th>\n",
       "      <td>96.03</td>\n",
       "      <td>0.0</td>\n",
       "      <td>0.0</td>\n",
       "      <td>False</td>\n",
       "      <td>391.0</td>\n",
       "      <td>400.0</td>\n",
       "      <td>294.0</td>\n",
       "      <td>200.0</td>\n",
       "      <td>750.0</td>\n",
       "      <td>500.0</td>\n",
       "      <td>...</td>\n",
       "      <td>0.0</td>\n",
       "      <td>1</td>\n",
       "      <td>0</td>\n",
       "      <td>1</td>\n",
       "      <td>0</td>\n",
       "      <td>0</td>\n",
       "      <td>0</td>\n",
       "      <td>0</td>\n",
       "      <td>0</td>\n",
       "      <td>0</td>\n",
       "    </tr>\n",
       "    <tr>\n",
       "      <th>3</th>\n",
       "      <td>76.03</td>\n",
       "      <td>0.0</td>\n",
       "      <td>0.0</td>\n",
       "      <td>False</td>\n",
       "      <td>391.0</td>\n",
       "      <td>400.0</td>\n",
       "      <td>294.0</td>\n",
       "      <td>200.0</td>\n",
       "      <td>750.0</td>\n",
       "      <td>500.0</td>\n",
       "      <td>...</td>\n",
       "      <td>0.0</td>\n",
       "      <td>1</td>\n",
       "      <td>0</td>\n",
       "      <td>1</td>\n",
       "      <td>0</td>\n",
       "      <td>0</td>\n",
       "      <td>0</td>\n",
       "      <td>0</td>\n",
       "      <td>0</td>\n",
       "      <td>0</td>\n",
       "    </tr>\n",
       "    <tr>\n",
       "      <th>4</th>\n",
       "      <td>174.97</td>\n",
       "      <td>1.0</td>\n",
       "      <td>0.0</td>\n",
       "      <td>False</td>\n",
       "      <td>500.0</td>\n",
       "      <td>500.0</td>\n",
       "      <td>192.0</td>\n",
       "      <td>0.0</td>\n",
       "      <td>18350.0</td>\n",
       "      <td>10750.0</td>\n",
       "      <td>...</td>\n",
       "      <td>0.0</td>\n",
       "      <td>1</td>\n",
       "      <td>0</td>\n",
       "      <td>1</td>\n",
       "      <td>0</td>\n",
       "      <td>0</td>\n",
       "      <td>0</td>\n",
       "      <td>0</td>\n",
       "      <td>0</td>\n",
       "      <td>0</td>\n",
       "    </tr>\n",
       "  </tbody>\n",
       "</table>\n",
       "<p>5 rows × 104 columns</p>\n",
       "</div>"
      ],
      "text/plain": [
       "   time_left  ct_score  t_score  bomb_planted  ct_health  t_health  ct_armor  \\\n",
       "0     175.00       0.0      0.0         False      500.0     500.0       0.0   \n",
       "1     156.03       0.0      0.0         False      500.0     500.0     400.0   \n",
       "2      96.03       0.0      0.0         False      391.0     400.0     294.0   \n",
       "3      76.03       0.0      0.0         False      391.0     400.0     294.0   \n",
       "4     174.97       1.0      0.0         False      500.0     500.0     192.0   \n",
       "\n",
       "   t_armor  ct_money  t_money  ...  t_grenade_decoygrenade  round_winner  \\\n",
       "0      0.0    4000.0   4000.0  ...                     0.0             1   \n",
       "1    300.0     600.0    650.0  ...                     0.0             1   \n",
       "2    200.0     750.0    500.0  ...                     0.0             1   \n",
       "3    200.0     750.0    500.0  ...                     0.0             1   \n",
       "4      0.0   18350.0  10750.0  ...                     0.0             1   \n",
       "\n",
       "   map_de_cache  map_de_dust2  map_de_inferno  map_de_mirage  map_de_nuke  \\\n",
       "0             0             1               0              0            0   \n",
       "1             0             1               0              0            0   \n",
       "2             0             1               0              0            0   \n",
       "3             0             1               0              0            0   \n",
       "4             0             1               0              0            0   \n",
       "\n",
       "   map_de_overpass  map_de_train  map_de_vertigo  \n",
       "0                0             0               0  \n",
       "1                0             0               0  \n",
       "2                0             0               0  \n",
       "3                0             0               0  \n",
       "4                0             0               0  \n",
       "\n",
       "[5 rows x 104 columns]"
      ]
     },
     "execution_count": 54,
     "metadata": {},
     "output_type": "execute_result"
    }
   ],
   "source": [
    "dataset.head()"
   ]
  },
  {
   "cell_type": "code",
   "execution_count": 55,
   "metadata": {},
   "outputs": [],
   "source": [
    "dataset[\"bomb_planted\"] = dataset[\"bomb_planted\"].astype(int)"
   ]
  },
  {
   "cell_type": "code",
   "execution_count": 56,
   "metadata": {},
   "outputs": [
    {
     "name": "stdout",
     "output_type": "stream",
     "text": [
      "0\n",
      "1\n"
     ]
    }
   ],
   "source": [
    "print(dataset[\"bomb_planted\"].min())\n",
    "print(dataset[\"bomb_planted\"].max())"
   ]
  },
  {
   "cell_type": "code",
   "execution_count": 57,
   "metadata": {},
   "outputs": [
    {
     "data": {
      "text/html": [
       "<div>\n",
       "<style scoped>\n",
       "    .dataframe tbody tr th:only-of-type {\n",
       "        vertical-align: middle;\n",
       "    }\n",
       "\n",
       "    .dataframe tbody tr th {\n",
       "        vertical-align: top;\n",
       "    }\n",
       "\n",
       "    .dataframe thead th {\n",
       "        text-align: right;\n",
       "    }\n",
       "</style>\n",
       "<table border=\"1\" class=\"dataframe\">\n",
       "  <thead>\n",
       "    <tr style=\"text-align: right;\">\n",
       "      <th></th>\n",
       "      <th>time_left</th>\n",
       "      <th>ct_score</th>\n",
       "      <th>t_score</th>\n",
       "      <th>bomb_planted</th>\n",
       "      <th>ct_health</th>\n",
       "      <th>t_health</th>\n",
       "      <th>ct_armor</th>\n",
       "      <th>t_armor</th>\n",
       "      <th>ct_money</th>\n",
       "      <th>t_money</th>\n",
       "      <th>...</th>\n",
       "      <th>t_grenade_decoygrenade</th>\n",
       "      <th>round_winner</th>\n",
       "      <th>map_de_cache</th>\n",
       "      <th>map_de_dust2</th>\n",
       "      <th>map_de_inferno</th>\n",
       "      <th>map_de_mirage</th>\n",
       "      <th>map_de_nuke</th>\n",
       "      <th>map_de_overpass</th>\n",
       "      <th>map_de_train</th>\n",
       "      <th>map_de_vertigo</th>\n",
       "    </tr>\n",
       "  </thead>\n",
       "  <tbody>\n",
       "    <tr>\n",
       "      <th>0</th>\n",
       "      <td>175.00</td>\n",
       "      <td>0.0</td>\n",
       "      <td>0.0</td>\n",
       "      <td>0</td>\n",
       "      <td>500.0</td>\n",
       "      <td>500.0</td>\n",
       "      <td>0.0</td>\n",
       "      <td>0.0</td>\n",
       "      <td>4000.0</td>\n",
       "      <td>4000.0</td>\n",
       "      <td>...</td>\n",
       "      <td>0.0</td>\n",
       "      <td>1</td>\n",
       "      <td>0</td>\n",
       "      <td>1</td>\n",
       "      <td>0</td>\n",
       "      <td>0</td>\n",
       "      <td>0</td>\n",
       "      <td>0</td>\n",
       "      <td>0</td>\n",
       "      <td>0</td>\n",
       "    </tr>\n",
       "    <tr>\n",
       "      <th>1</th>\n",
       "      <td>156.03</td>\n",
       "      <td>0.0</td>\n",
       "      <td>0.0</td>\n",
       "      <td>0</td>\n",
       "      <td>500.0</td>\n",
       "      <td>500.0</td>\n",
       "      <td>400.0</td>\n",
       "      <td>300.0</td>\n",
       "      <td>600.0</td>\n",
       "      <td>650.0</td>\n",
       "      <td>...</td>\n",
       "      <td>0.0</td>\n",
       "      <td>1</td>\n",
       "      <td>0</td>\n",
       "      <td>1</td>\n",
       "      <td>0</td>\n",
       "      <td>0</td>\n",
       "      <td>0</td>\n",
       "      <td>0</td>\n",
       "      <td>0</td>\n",
       "      <td>0</td>\n",
       "    </tr>\n",
       "    <tr>\n",
       "      <th>2</th>\n",
       "      <td>96.03</td>\n",
       "      <td>0.0</td>\n",
       "      <td>0.0</td>\n",
       "      <td>0</td>\n",
       "      <td>391.0</td>\n",
       "      <td>400.0</td>\n",
       "      <td>294.0</td>\n",
       "      <td>200.0</td>\n",
       "      <td>750.0</td>\n",
       "      <td>500.0</td>\n",
       "      <td>...</td>\n",
       "      <td>0.0</td>\n",
       "      <td>1</td>\n",
       "      <td>0</td>\n",
       "      <td>1</td>\n",
       "      <td>0</td>\n",
       "      <td>0</td>\n",
       "      <td>0</td>\n",
       "      <td>0</td>\n",
       "      <td>0</td>\n",
       "      <td>0</td>\n",
       "    </tr>\n",
       "    <tr>\n",
       "      <th>3</th>\n",
       "      <td>76.03</td>\n",
       "      <td>0.0</td>\n",
       "      <td>0.0</td>\n",
       "      <td>0</td>\n",
       "      <td>391.0</td>\n",
       "      <td>400.0</td>\n",
       "      <td>294.0</td>\n",
       "      <td>200.0</td>\n",
       "      <td>750.0</td>\n",
       "      <td>500.0</td>\n",
       "      <td>...</td>\n",
       "      <td>0.0</td>\n",
       "      <td>1</td>\n",
       "      <td>0</td>\n",
       "      <td>1</td>\n",
       "      <td>0</td>\n",
       "      <td>0</td>\n",
       "      <td>0</td>\n",
       "      <td>0</td>\n",
       "      <td>0</td>\n",
       "      <td>0</td>\n",
       "    </tr>\n",
       "    <tr>\n",
       "      <th>4</th>\n",
       "      <td>174.97</td>\n",
       "      <td>1.0</td>\n",
       "      <td>0.0</td>\n",
       "      <td>0</td>\n",
       "      <td>500.0</td>\n",
       "      <td>500.0</td>\n",
       "      <td>192.0</td>\n",
       "      <td>0.0</td>\n",
       "      <td>18350.0</td>\n",
       "      <td>10750.0</td>\n",
       "      <td>...</td>\n",
       "      <td>0.0</td>\n",
       "      <td>1</td>\n",
       "      <td>0</td>\n",
       "      <td>1</td>\n",
       "      <td>0</td>\n",
       "      <td>0</td>\n",
       "      <td>0</td>\n",
       "      <td>0</td>\n",
       "      <td>0</td>\n",
       "      <td>0</td>\n",
       "    </tr>\n",
       "  </tbody>\n",
       "</table>\n",
       "<p>5 rows × 104 columns</p>\n",
       "</div>"
      ],
      "text/plain": [
       "   time_left  ct_score  t_score  bomb_planted  ct_health  t_health  ct_armor  \\\n",
       "0     175.00       0.0      0.0             0      500.0     500.0       0.0   \n",
       "1     156.03       0.0      0.0             0      500.0     500.0     400.0   \n",
       "2      96.03       0.0      0.0             0      391.0     400.0     294.0   \n",
       "3      76.03       0.0      0.0             0      391.0     400.0     294.0   \n",
       "4     174.97       1.0      0.0             0      500.0     500.0     192.0   \n",
       "\n",
       "   t_armor  ct_money  t_money  ...  t_grenade_decoygrenade  round_winner  \\\n",
       "0      0.0    4000.0   4000.0  ...                     0.0             1   \n",
       "1    300.0     600.0    650.0  ...                     0.0             1   \n",
       "2    200.0     750.0    500.0  ...                     0.0             1   \n",
       "3    200.0     750.0    500.0  ...                     0.0             1   \n",
       "4      0.0   18350.0  10750.0  ...                     0.0             1   \n",
       "\n",
       "   map_de_cache  map_de_dust2  map_de_inferno  map_de_mirage  map_de_nuke  \\\n",
       "0             0             1               0              0            0   \n",
       "1             0             1               0              0            0   \n",
       "2             0             1               0              0            0   \n",
       "3             0             1               0              0            0   \n",
       "4             0             1               0              0            0   \n",
       "\n",
       "   map_de_overpass  map_de_train  map_de_vertigo  \n",
       "0                0             0               0  \n",
       "1                0             0               0  \n",
       "2                0             0               0  \n",
       "3                0             0               0  \n",
       "4                0             0               0  \n",
       "\n",
       "[5 rows x 104 columns]"
      ]
     },
     "execution_count": 57,
     "metadata": {},
     "output_type": "execute_result"
    }
   ],
   "source": [
    "dataset.head()"
   ]
  },
  {
   "cell_type": "code",
   "execution_count": 58,
   "metadata": {},
   "outputs": [
    {
     "name": "stdout",
     "output_type": "stream",
     "text": [
      "(122410, 103)\n",
      "(122410,)\n"
     ]
    }
   ],
   "source": [
    "X = dataset.drop('round_winner', axis=1)\n",
    "y = dataset['round_winner']\n",
    "print(X.shape)\n",
    "print(y.shape)"
   ]
  },
  {
   "cell_type": "code",
   "execution_count": 59,
   "metadata": {},
   "outputs": [],
   "source": [
    "model = Sequential()\n",
    "model.add(Dense(64, activation='relu', input_shape = (103,) ))\n",
    "model.add(Dense(32, activation='relu'))\n",
    "model.add(Dense(16, activation='relu'))\n",
    "model.add(Dense(8, activation='relu'))\n",
    "model.add(Dense(1, activation='sigmoid'))\n",
    "\n",
    "model.compile(optimizer='adam', loss='binary_crossentropy', metrics=['accuracy'])"
   ]
  },
  {
   "cell_type": "code",
   "execution_count": 60,
   "metadata": {},
   "outputs": [],
   "source": [
    "# X = np.asarray(X).astype(np.int)"
   ]
  },
  {
   "cell_type": "code",
   "execution_count": 16,
   "metadata": {},
   "outputs": [
    {
     "name": "stdout",
     "output_type": "stream",
     "text": [
      "Train on 97928 samples, validate on 24482 samples\n",
      "Epoch 1/10\n",
      "97920/97928 [============================>.] - ETA: 0s - loss: 1.6617 - accuracy: 0.6698"
     ]
    },
    {
     "name": "stderr",
     "output_type": "stream",
     "text": [
      "c:\\users\\admin200918\\appdata\\local\\programs\\python\\python37\\lib\\site-packages\\tensorflow\\python\\keras\\engine\\training.py:2325: UserWarning: `Model.state_updates` will be removed in a future version. This property should not be used in TensorFlow 2.0, as `updates` are applied automatically.\n",
      "  warnings.warn('`Model.state_updates` will be removed in a future version. '\n"
     ]
    },
    {
     "name": "stdout",
     "output_type": "stream",
     "text": [
      "97928/97928 [==============================] - 22s 227us/sample - loss: 1.6616 - accuracy: 0.6698 - val_loss: 0.6415 - val_accuracy: 0.6771\n",
      "Epoch 2/10\n",
      "97928/97928 [==============================] - ETA: 0s - loss: 0.6274 - accuracy: 0.7059"
     ]
    },
    {
     "ename": "KeyboardInterrupt",
     "evalue": "",
     "output_type": "error",
     "traceback": [
      "\u001b[1;31m---------------------------------------------------------------------------\u001b[0m",
      "\u001b[1;31mKeyboardInterrupt\u001b[0m                         Traceback (most recent call last)",
      "\u001b[1;32m<ipython-input-16-1d7ac60f2c72>\u001b[0m in \u001b[0;36m<module>\u001b[1;34m\u001b[0m\n\u001b[1;32m----> 1\u001b[1;33m \u001b[0mmodel\u001b[0m\u001b[1;33m.\u001b[0m\u001b[0mfit\u001b[0m\u001b[1;33m(\u001b[0m\u001b[0mX\u001b[0m\u001b[1;33m,\u001b[0m \u001b[0my\u001b[0m\u001b[1;33m,\u001b[0m \u001b[0mepochs\u001b[0m\u001b[1;33m=\u001b[0m\u001b[1;36m10\u001b[0m\u001b[1;33m,\u001b[0m \u001b[0mbatch_size\u001b[0m\u001b[1;33m=\u001b[0m\u001b[1;36m32\u001b[0m\u001b[1;33m,\u001b[0m \u001b[0mvalidation_split\u001b[0m \u001b[1;33m=\u001b[0m \u001b[1;36m.2\u001b[0m\u001b[1;33m)\u001b[0m\u001b[1;33m\u001b[0m\u001b[1;33m\u001b[0m\u001b[0m\n\u001b[0m",
      "\u001b[1;32mc:\\users\\admin200918\\appdata\\local\\programs\\python\\python37\\lib\\site-packages\\tensorflow\\python\\keras\\engine\\training_v1.py\u001b[0m in \u001b[0;36mfit\u001b[1;34m(self, x, y, batch_size, epochs, verbose, callbacks, validation_split, validation_data, shuffle, class_weight, sample_weight, initial_epoch, steps_per_epoch, validation_steps, validation_freq, max_queue_size, workers, use_multiprocessing, **kwargs)\u001b[0m\n\u001b[0;32m    806\u001b[0m         \u001b[0mmax_queue_size\u001b[0m\u001b[1;33m=\u001b[0m\u001b[0mmax_queue_size\u001b[0m\u001b[1;33m,\u001b[0m\u001b[1;33m\u001b[0m\u001b[1;33m\u001b[0m\u001b[0m\n\u001b[0;32m    807\u001b[0m         \u001b[0mworkers\u001b[0m\u001b[1;33m=\u001b[0m\u001b[0mworkers\u001b[0m\u001b[1;33m,\u001b[0m\u001b[1;33m\u001b[0m\u001b[1;33m\u001b[0m\u001b[0m\n\u001b[1;32m--> 808\u001b[1;33m         use_multiprocessing=use_multiprocessing)\n\u001b[0m\u001b[0;32m    809\u001b[0m \u001b[1;33m\u001b[0m\u001b[0m\n\u001b[0;32m    810\u001b[0m   def evaluate(self,\n",
      "\u001b[1;32mc:\\users\\admin200918\\appdata\\local\\programs\\python\\python37\\lib\\site-packages\\tensorflow\\python\\keras\\engine\\training_arrays_v1.py\u001b[0m in \u001b[0;36mfit\u001b[1;34m(self, model, x, y, batch_size, epochs, verbose, callbacks, validation_split, validation_data, shuffle, class_weight, sample_weight, initial_epoch, steps_per_epoch, validation_steps, validation_freq, **kwargs)\u001b[0m\n\u001b[0;32m    662\u001b[0m         \u001b[0mvalidation_steps\u001b[0m\u001b[1;33m=\u001b[0m\u001b[0mvalidation_steps\u001b[0m\u001b[1;33m,\u001b[0m\u001b[1;33m\u001b[0m\u001b[1;33m\u001b[0m\u001b[0m\n\u001b[0;32m    663\u001b[0m         \u001b[0mvalidation_freq\u001b[0m\u001b[1;33m=\u001b[0m\u001b[0mvalidation_freq\u001b[0m\u001b[1;33m,\u001b[0m\u001b[1;33m\u001b[0m\u001b[1;33m\u001b[0m\u001b[0m\n\u001b[1;32m--> 664\u001b[1;33m         steps_name='steps_per_epoch')\n\u001b[0m\u001b[0;32m    665\u001b[0m \u001b[1;33m\u001b[0m\u001b[0m\n\u001b[0;32m    666\u001b[0m   def evaluate(self,\n",
      "\u001b[1;32mc:\\users\\admin200918\\appdata\\local\\programs\\python\\python37\\lib\\site-packages\\tensorflow\\python\\keras\\engine\\training_arrays_v1.py\u001b[0m in \u001b[0;36mmodel_iteration\u001b[1;34m(model, inputs, targets, sample_weights, batch_size, epochs, verbose, callbacks, val_inputs, val_targets, val_sample_weights, shuffle, initial_epoch, steps_per_epoch, validation_steps, validation_freq, mode, validation_in_fit, prepared_feed_values_from_dataset, steps_name, **kwargs)\u001b[0m\n\u001b[0;32m    427\u001b[0m           \u001b[0mvalidation_in_fit\u001b[0m\u001b[1;33m=\u001b[0m\u001b[1;32mTrue\u001b[0m\u001b[1;33m,\u001b[0m\u001b[1;33m\u001b[0m\u001b[1;33m\u001b[0m\u001b[0m\n\u001b[0;32m    428\u001b[0m           \u001b[0mprepared_feed_values_from_dataset\u001b[0m\u001b[1;33m=\u001b[0m\u001b[1;33m(\u001b[0m\u001b[0mval_iterator\u001b[0m \u001b[1;32mis\u001b[0m \u001b[1;32mnot\u001b[0m \u001b[1;32mNone\u001b[0m\u001b[1;33m)\u001b[0m\u001b[1;33m,\u001b[0m\u001b[1;33m\u001b[0m\u001b[1;33m\u001b[0m\u001b[0m\n\u001b[1;32m--> 429\u001b[1;33m           steps_name='validation_steps')\n\u001b[0m\u001b[0;32m    430\u001b[0m       \u001b[1;32mif\u001b[0m \u001b[1;32mnot\u001b[0m \u001b[0misinstance\u001b[0m\u001b[1;33m(\u001b[0m\u001b[0mval_results\u001b[0m\u001b[1;33m,\u001b[0m \u001b[0mlist\u001b[0m\u001b[1;33m)\u001b[0m\u001b[1;33m:\u001b[0m\u001b[1;33m\u001b[0m\u001b[1;33m\u001b[0m\u001b[0m\n\u001b[0;32m    431\u001b[0m         \u001b[0mval_results\u001b[0m \u001b[1;33m=\u001b[0m \u001b[1;33m[\u001b[0m\u001b[0mval_results\u001b[0m\u001b[1;33m]\u001b[0m\u001b[1;33m\u001b[0m\u001b[1;33m\u001b[0m\u001b[0m\n",
      "\u001b[1;32mc:\\users\\admin200918\\appdata\\local\\programs\\python\\python37\\lib\\site-packages\\tensorflow\\python\\keras\\engine\\training_arrays_v1.py\u001b[0m in \u001b[0;36mmodel_iteration\u001b[1;34m(model, inputs, targets, sample_weights, batch_size, epochs, verbose, callbacks, val_inputs, val_targets, val_sample_weights, shuffle, initial_epoch, steps_per_epoch, validation_steps, validation_freq, mode, validation_in_fit, prepared_feed_values_from_dataset, steps_name, **kwargs)\u001b[0m\n\u001b[0;32m    382\u001b[0m \u001b[1;33m\u001b[0m\u001b[0m\n\u001b[0;32m    383\u001b[0m         \u001b[1;31m# Get outputs.\u001b[0m\u001b[1;33m\u001b[0m\u001b[1;33m\u001b[0m\u001b[1;33m\u001b[0m\u001b[0m\n\u001b[1;32m--> 384\u001b[1;33m         \u001b[0mbatch_outs\u001b[0m \u001b[1;33m=\u001b[0m \u001b[0mf\u001b[0m\u001b[1;33m(\u001b[0m\u001b[0mins_batch\u001b[0m\u001b[1;33m)\u001b[0m\u001b[1;33m\u001b[0m\u001b[1;33m\u001b[0m\u001b[0m\n\u001b[0m\u001b[0;32m    385\u001b[0m         \u001b[1;32mif\u001b[0m \u001b[1;32mnot\u001b[0m \u001b[0misinstance\u001b[0m\u001b[1;33m(\u001b[0m\u001b[0mbatch_outs\u001b[0m\u001b[1;33m,\u001b[0m \u001b[0mlist\u001b[0m\u001b[1;33m)\u001b[0m\u001b[1;33m:\u001b[0m\u001b[1;33m\u001b[0m\u001b[1;33m\u001b[0m\u001b[0m\n\u001b[0;32m    386\u001b[0m           \u001b[0mbatch_outs\u001b[0m \u001b[1;33m=\u001b[0m \u001b[1;33m[\u001b[0m\u001b[0mbatch_outs\u001b[0m\u001b[1;33m]\u001b[0m\u001b[1;33m\u001b[0m\u001b[1;33m\u001b[0m\u001b[0m\n",
      "\u001b[1;32mc:\\users\\admin200918\\appdata\\local\\programs\\python\\python37\\lib\\site-packages\\tensorflow\\python\\keras\\backend.py\u001b[0m in \u001b[0;36m__call__\u001b[1;34m(self, inputs)\u001b[0m\n\u001b[0;32m   3955\u001b[0m \u001b[1;33m\u001b[0m\u001b[0m\n\u001b[0;32m   3956\u001b[0m     fetched = self._callable_fn(*array_vals,\n\u001b[1;32m-> 3957\u001b[1;33m                                 run_metadata=self.run_metadata)\n\u001b[0m\u001b[0;32m   3958\u001b[0m     \u001b[0mself\u001b[0m\u001b[1;33m.\u001b[0m\u001b[0m_call_fetch_callbacks\u001b[0m\u001b[1;33m(\u001b[0m\u001b[0mfetched\u001b[0m\u001b[1;33m[\u001b[0m\u001b[1;33m-\u001b[0m\u001b[0mlen\u001b[0m\u001b[1;33m(\u001b[0m\u001b[0mself\u001b[0m\u001b[1;33m.\u001b[0m\u001b[0m_fetches\u001b[0m\u001b[1;33m)\u001b[0m\u001b[1;33m:\u001b[0m\u001b[1;33m]\u001b[0m\u001b[1;33m)\u001b[0m\u001b[1;33m\u001b[0m\u001b[1;33m\u001b[0m\u001b[0m\n\u001b[0;32m   3959\u001b[0m     output_structure = nest.pack_sequence_as(\n",
      "\u001b[1;32mc:\\users\\admin200918\\appdata\\local\\programs\\python\\python37\\lib\\site-packages\\tensorflow\\python\\client\\session.py\u001b[0m in \u001b[0;36m__call__\u001b[1;34m(self, *args, **kwargs)\u001b[0m\n\u001b[0;32m   1480\u001b[0m         ret = tf_session.TF_SessionRunCallable(self._session._session,\n\u001b[0;32m   1481\u001b[0m                                                \u001b[0mself\u001b[0m\u001b[1;33m.\u001b[0m\u001b[0m_handle\u001b[0m\u001b[1;33m,\u001b[0m \u001b[0margs\u001b[0m\u001b[1;33m,\u001b[0m\u001b[1;33m\u001b[0m\u001b[1;33m\u001b[0m\u001b[0m\n\u001b[1;32m-> 1482\u001b[1;33m                                                run_metadata_ptr)\n\u001b[0m\u001b[0;32m   1483\u001b[0m         \u001b[1;32mif\u001b[0m \u001b[0mrun_metadata\u001b[0m\u001b[1;33m:\u001b[0m\u001b[1;33m\u001b[0m\u001b[1;33m\u001b[0m\u001b[0m\n\u001b[0;32m   1484\u001b[0m           \u001b[0mproto_data\u001b[0m \u001b[1;33m=\u001b[0m \u001b[0mtf_session\u001b[0m\u001b[1;33m.\u001b[0m\u001b[0mTF_GetBuffer\u001b[0m\u001b[1;33m(\u001b[0m\u001b[0mrun_metadata_ptr\u001b[0m\u001b[1;33m)\u001b[0m\u001b[1;33m\u001b[0m\u001b[1;33m\u001b[0m\u001b[0m\n",
      "\u001b[1;31mKeyboardInterrupt\u001b[0m: "
     ]
    }
   ],
   "source": [
    "model.fit(X, y, epochs=10, batch_size=32, validation_split = .2)"
   ]
  },
  {
   "cell_type": "code",
   "execution_count": 145,
   "metadata": {},
   "outputs": [],
   "source": [
    "model1 = Sequential()\n",
    "model1.add(Dense(128, activation='relu', input_shape = (103,) ))\n",
    "model1.add(Dense(64, activation='relu'))\n",
    "model1.add(Dense(32, activation='relu'))\n",
    "model1.add(Dense(16, activation='relu'))\n",
    "model1.add(Dense(1, activation='sigmoid'))\n",
    "\n",
    "model1.compile(optimizer='adam', loss='binary_crossentropy', metrics=['accuracy'])"
   ]
  },
  {
   "cell_type": "code",
   "execution_count": 146,
   "metadata": {},
   "outputs": [
    {
     "name": "stdout",
     "output_type": "stream",
     "text": [
      "Train on 97928 samples, validate on 24482 samples\n",
      "Epoch 1/10\n",
      "97928/97928 [==============================] - 19s 194us/sample - loss: 5.4314 - accuracy: 0.6702 - val_loss: 1.2219 - val_accuracy: 0.7039\n",
      "Epoch 2/10\n",
      "97928/97928 [==============================] - 21s 217us/sample - loss: 0.8508 - accuracy: 0.6984 - val_loss: 0.5190 - val_accuracy: 0.7280\n",
      "Epoch 3/10\n",
      "97928/97928 [==============================] - 21s 210us/sample - loss: 0.5649 - accuracy: 0.7094 - val_loss: 0.5464 - val_accuracy: 0.6809\n",
      "Epoch 4/10\n",
      "97928/97928 [==============================] - 21s 212us/sample - loss: 0.5515 - accuracy: 0.7152 - val_loss: 0.5492 - val_accuracy: 0.7338\n",
      "Epoch 5/10\n",
      "97928/97928 [==============================] - 23s 234us/sample - loss: 0.5355 - accuracy: 0.7192 - val_loss: 0.5026 - val_accuracy: 0.7285\n",
      "Epoch 6/10\n",
      "97928/97928 [==============================] - 19s 189us/sample - loss: 0.5368 - accuracy: 0.7141 - val_loss: 0.5035 - val_accuracy: 0.7280\n",
      "Epoch 7/10\n",
      "97928/97928 [==============================] - 22s 227us/sample - loss: 0.5161 - accuracy: 0.7271 - val_loss: 0.4972 - val_accuracy: 0.7297\n",
      "Epoch 8/10\n",
      "97928/97928 [==============================] - 23s 231us/sample - loss: 0.4993 - accuracy: 0.7345 - val_loss: 0.4911 - val_accuracy: 0.7361\n",
      "Epoch 9/10\n",
      "97928/97928 [==============================] - 23s 235us/sample - loss: 0.4975 - accuracy: 0.7354 - val_loss: 0.5017 - val_accuracy: 0.7117\n",
      "Epoch 10/10\n",
      "97928/97928 [==============================] - 21s 213us/sample - loss: 0.4888 - accuracy: 0.7391 - val_loss: 0.4908 - val_accuracy: 0.7319\n"
     ]
    },
    {
     "data": {
      "text/plain": [
       "<tensorflow.python.keras.callbacks.History at 0x2110d3cb6c8>"
      ]
     },
     "execution_count": 146,
     "metadata": {},
     "output_type": "execute_result"
    }
   ],
   "source": [
    "model1.fit(X, y, epochs=10, batch_size=32, validation_split = .2)"
   ]
  },
  {
   "cell_type": "code",
   "execution_count": 150,
   "metadata": {},
   "outputs": [],
   "source": [
    "opt = keras.optimizers.Adam(learning_rate=0.001)\n",
    "\n",
    "model2 = Sequential()\n",
    "model2.add(Dense(1000, activation='relu', input_shape = (103,) ))\n",
    "model2.add(Dense(1, activation='sigmoid'))\n",
    "\n",
    "model2.compile(optimizer=opt, loss='binary_crossentropy', metrics=['accuracy'])"
   ]
  },
  {
   "cell_type": "code",
   "execution_count": 151,
   "metadata": {},
   "outputs": [
    {
     "name": "stdout",
     "output_type": "stream",
     "text": [
      "Train on 97928 samples, validate on 24482 samples\n",
      "Epoch 1/10\n",
      "97928/97928 [==============================] - 24s 244us/sample - loss: 20.5472 - accuracy: 0.6725 - val_loss: 8.1156 - val_accuracy: 0.7034\n",
      "Epoch 2/10\n",
      "97928/97928 [==============================] - 22s 228us/sample - loss: 9.5269 - accuracy: 0.6799 - val_loss: 17.8611 - val_accuracy: 0.5696\n",
      "Epoch 3/10\n",
      "97928/97928 [==============================] - 24s 248us/sample - loss: 3.6458 - accuracy: 0.6876 - val_loss: 2.3004 - val_accuracy: 0.6064\n",
      "Epoch 4/10\n",
      "97928/97928 [==============================] - 24s 244us/sample - loss: 1.2630 - accuracy: 0.6956 - val_loss: 0.7658 - val_accuracy: 0.6898\n",
      "Epoch 5/10\n",
      "97928/97928 [==============================] - 22s 227us/sample - loss: 0.6221 - accuracy: 0.7126 - val_loss: 0.5089 - val_accuracy: 0.7235\n",
      "Epoch 6/10\n",
      "97928/97928 [==============================] - 18s 182us/sample - loss: 0.5142 - accuracy: 0.7313 - val_loss: 0.5026 - val_accuracy: 0.7249\n",
      "Epoch 7/10\n",
      "97928/97928 [==============================] - 25s 255us/sample - loss: 0.5018 - accuracy: 0.7339 - val_loss: 0.5055 - val_accuracy: 0.7189\n",
      "Epoch 8/10\n",
      "97928/97928 [==============================] - 23s 231us/sample - loss: 0.4989 - accuracy: 0.7349 - val_loss: 0.5061 - val_accuracy: 0.7208\n",
      "Epoch 9/10\n",
      "97928/97928 [==============================] - 23s 233us/sample - loss: 0.4949 - accuracy: 0.7380 - val_loss: 0.4878 - val_accuracy: 0.7244\n",
      "Epoch 10/10\n",
      "97928/97928 [==============================] - 26s 264us/sample - loss: 0.4950 - accuracy: 0.7356 - val_loss: 0.4944 - val_accuracy: 0.7326\n"
     ]
    },
    {
     "data": {
      "text/plain": [
       "<tensorflow.python.keras.callbacks.History at 0x211ca217a48>"
      ]
     },
     "execution_count": 151,
     "metadata": {},
     "output_type": "execute_result"
    }
   ],
   "source": [
    "model2.fit(X, y, epochs=10, batch_size=32, validation_split = .2)"
   ]
  },
  {
   "cell_type": "code",
   "execution_count": 152,
   "metadata": {},
   "outputs": [],
   "source": [
    "opt = keras.optimizers.Adam(learning_rate=0.00001)\n",
    "\n",
    "model3 = Sequential()\n",
    "model3.add(Dense(1000, activation='relu', input_shape = (103,) ))\n",
    "model3.add(Dense(1, activation='sigmoid'))\n",
    "\n",
    "model3.compile(optimizer=opt, loss='binary_crossentropy', metrics=['accuracy'])"
   ]
  },
  {
   "cell_type": "code",
   "execution_count": 153,
   "metadata": {},
   "outputs": [
    {
     "name": "stdout",
     "output_type": "stream",
     "text": [
      "Train on 97928 samples, validate on 24482 samples\n",
      "Epoch 1/10\n",
      "97928/97928 [==============================] - 23s 238us/sample - loss: 25.6518 - accuracy: 0.6521 - val_loss: 1.4274 - val_accuracy: 0.6590\n",
      "Epoch 2/10\n",
      "97928/97928 [==============================] - 24s 245us/sample - loss: 0.9443 - accuracy: 0.6971 - val_loss: 1.0558 - val_accuracy: 0.6551\n",
      "Epoch 3/10\n",
      "97928/97928 [==============================] - 23s 235us/sample - loss: 0.8307 - accuracy: 0.7033 - val_loss: 0.6387 - val_accuracy: 0.7140\n",
      "Epoch 4/10\n",
      "97928/97928 [==============================] - 24s 247us/sample - loss: 0.7863 - accuracy: 0.7081 - val_loss: 0.7065 - val_accuracy: 0.7042\n",
      "Epoch 5/10\n",
      "97928/97928 [==============================] - 23s 230us/sample - loss: 0.7486 - accuracy: 0.7121 - val_loss: 0.6651 - val_accuracy: 0.7162\n",
      "Epoch 6/10\n",
      "97928/97928 [==============================] - 23s 232us/sample - loss: 0.7592 - accuracy: 0.7118 - val_loss: 0.8191 - val_accuracy: 0.7024\n",
      "Epoch 7/10\n",
      "97928/97928 [==============================] - 25s 251us/sample - loss: 0.7186 - accuracy: 0.7143 - val_loss: 0.7844 - val_accuracy: 0.7126\n",
      "Epoch 8/10\n",
      "97928/97928 [==============================] - 26s 261us/sample - loss: 0.7513 - accuracy: 0.7140 - val_loss: 0.9165 - val_accuracy: 0.6650\n",
      "Epoch 9/10\n",
      "97928/97928 [==============================] - 22s 225us/sample - loss: 0.7167 - accuracy: 0.7180 - val_loss: 0.6450 - val_accuracy: 0.7144\n",
      "Epoch 10/10\n",
      "97928/97928 [==============================] - 19s 196us/sample - loss: 0.7506 - accuracy: 0.7161 - val_loss: 0.6285 - val_accuracy: 0.7143\n"
     ]
    },
    {
     "data": {
      "text/plain": [
       "<tensorflow.python.keras.callbacks.History at 0x211ca2aecc8>"
      ]
     },
     "execution_count": 153,
     "metadata": {},
     "output_type": "execute_result"
    }
   ],
   "source": [
    "model3.fit(X, y, epochs=10, batch_size=32, validation_split = .2)"
   ]
  },
  {
   "cell_type": "code",
   "execution_count": 154,
   "metadata": {},
   "outputs": [],
   "source": [
    "opt = keras.optimizers.Adam(learning_rate=0.00001)\n",
    "\n",
    "model4 = Sequential()\n",
    "model4.add(Dense(10000, activation='relu', input_shape = (103,) ))\n",
    "model4.add(Dense(1, activation='sigmoid'))\n",
    "\n",
    "model4.compile(optimizer=opt, loss='binary_crossentropy', metrics=['accuracy'])"
   ]
  },
  {
   "cell_type": "code",
   "execution_count": 155,
   "metadata": {},
   "outputs": [
    {
     "name": "stdout",
     "output_type": "stream",
     "text": [
      "Train on 97928 samples, validate on 24482 samples\n",
      "Epoch 1/100\n",
      "97928/97928 [==============================] - 24s 248us/sample - loss: 6.1247 - accuracy: 0.6684 - val_loss: 1.0242 - val_accuracy: 0.6731\n",
      "Epoch 2/100\n",
      "97928/97928 [==============================] - 13s 130us/sample - loss: 0.9527 - accuracy: 0.6950 - val_loss: 0.7840 - val_accuracy: 0.6953\n",
      "Epoch 3/100\n",
      "97928/97928 [==============================] - 9s 94us/sample - loss: 0.8065 - accuracy: 0.7038 - val_loss: 0.7185 - val_accuracy: 0.7046\n",
      "Epoch 4/100\n",
      "97928/97928 [==============================] - 9s 91us/sample - loss: 0.7604 - accuracy: 0.7081 - val_loss: 0.6679 - val_accuracy: 0.7161\n",
      "Epoch 5/100\n",
      "97928/97928 [==============================] - 9s 91us/sample - loss: 0.7625 - accuracy: 0.7085 - val_loss: 0.7535 - val_accuracy: 0.7057\n",
      "Epoch 6/100\n",
      "97928/97928 [==============================] - 9s 91us/sample - loss: 0.7287 - accuracy: 0.7110 - val_loss: 0.6228 - val_accuracy: 0.7126\n",
      "Epoch 7/100\n",
      "97928/97928 [==============================] - 9s 91us/sample - loss: 0.7144 - accuracy: 0.7136 - val_loss: 0.6776 - val_accuracy: 0.6918\n",
      "Epoch 8/100\n",
      "97928/97928 [==============================] - 9s 91us/sample - loss: 0.7100 - accuracy: 0.7163 - val_loss: 0.6087 - val_accuracy: 0.7192\n",
      "Epoch 9/100\n",
      "97928/97928 [==============================] - 9s 94us/sample - loss: 0.7013 - accuracy: 0.7165 - val_loss: 0.6500 - val_accuracy: 0.7189\n",
      "Epoch 10/100\n",
      "97928/97928 [==============================] - 9s 91us/sample - loss: 0.6783 - accuracy: 0.7178 - val_loss: 0.9608 - val_accuracy: 0.6563\n",
      "Epoch 11/100\n",
      "97928/97928 [==============================] - 9s 91us/sample - loss: 0.6867 - accuracy: 0.7193 - val_loss: 0.5755 - val_accuracy: 0.7059\n",
      "Epoch 12/100\n",
      "97928/97928 [==============================] - 9s 92us/sample - loss: 0.6866 - accuracy: 0.7206 - val_loss: 0.5591 - val_accuracy: 0.7211\n",
      "Epoch 13/100\n",
      "97928/97928 [==============================] - 9s 92us/sample - loss: 0.6827 - accuracy: 0.7212 - val_loss: 0.6181 - val_accuracy: 0.7164\n",
      "Epoch 14/100\n",
      "97928/97928 [==============================] - 9s 92us/sample - loss: 0.6683 - accuracy: 0.7223 - val_loss: 0.6342 - val_accuracy: 0.7008\n",
      "Epoch 15/100\n",
      "97928/97928 [==============================] - 9s 92us/sample - loss: 0.6969 - accuracy: 0.7216 - val_loss: 0.5380 - val_accuracy: 0.7229\n",
      "Epoch 16/100\n",
      "97928/97928 [==============================] - 9s 92us/sample - loss: 0.6592 - accuracy: 0.7243 - val_loss: 0.7311 - val_accuracy: 0.6674\n",
      "Epoch 17/100\n",
      "97928/97928 [==============================] - 9s 91us/sample - loss: 0.6824 - accuracy: 0.7216 - val_loss: 0.7224 - val_accuracy: 0.7093\n",
      "Epoch 18/100\n",
      "97928/97928 [==============================] - 9s 92us/sample - loss: 0.6757 - accuracy: 0.7227 - val_loss: 0.6394 - val_accuracy: 0.6958\n",
      "Epoch 19/100\n",
      "97928/97928 [==============================] - 9s 92us/sample - loss: 0.6675 - accuracy: 0.7230 - val_loss: 0.6683 - val_accuracy: 0.6988\n",
      "Epoch 20/100\n",
      "97928/97928 [==============================] - 9s 92us/sample - loss: 0.6772 - accuracy: 0.7245 - val_loss: 1.2416 - val_accuracy: 0.6228\n",
      "Epoch 21/100\n",
      "97928/97928 [==============================] - 9s 92us/sample - loss: 0.7135 - accuracy: 0.7211 - val_loss: 0.8340 - val_accuracy: 0.7126\n",
      "Epoch 22/100\n",
      "97928/97928 [==============================] - 9s 91us/sample - loss: 0.6728 - accuracy: 0.7263 - val_loss: 0.7812 - val_accuracy: 0.7148\n",
      "Epoch 23/100\n",
      "97928/97928 [==============================] - 9s 91us/sample - loss: 0.6726 - accuracy: 0.7254 - val_loss: 0.8781 - val_accuracy: 0.6559\n",
      "Epoch 24/100\n",
      "97928/97928 [==============================] - 9s 90us/sample - loss: 0.6785 - accuracy: 0.7267 - val_loss: 0.6422 - val_accuracy: 0.6980\n",
      "Epoch 25/100\n",
      "97928/97928 [==============================] - 9s 90us/sample - loss: 0.6925 - accuracy: 0.7236 - val_loss: 0.6126 - val_accuracy: 0.7271\n",
      "Epoch 26/100\n",
      "97928/97928 [==============================] - 9s 92us/sample - loss: 0.6753 - accuracy: 0.7253 - val_loss: 0.5757 - val_accuracy: 0.7264\n",
      "Epoch 27/100\n",
      "97928/97928 [==============================] - 9s 92us/sample - loss: 0.6510 - accuracy: 0.7289 - val_loss: 0.6254 - val_accuracy: 0.7218\n",
      "Epoch 28/100\n",
      "97928/97928 [==============================] - 9s 91us/sample - loss: 0.6819 - accuracy: 0.7282 - val_loss: 0.7147 - val_accuracy: 0.7083\n",
      "Epoch 29/100\n",
      "97928/97928 [==============================] - 9s 91us/sample - loss: 0.6455 - accuracy: 0.7305 - val_loss: 0.6400 - val_accuracy: 0.7016\n",
      "Epoch 30/100\n",
      "97928/97928 [==============================] - 9s 92us/sample - loss: 0.6762 - accuracy: 0.7291 - val_loss: 0.7782 - val_accuracy: 0.6839\n",
      "Epoch 31/100\n",
      "97928/97928 [==============================] - 9s 89us/sample - loss: 0.6589 - accuracy: 0.7294 - val_loss: 0.6438 - val_accuracy: 0.6901\n",
      "Epoch 32/100\n",
      "97928/97928 [==============================] - 9s 93us/sample - loss: 0.6693 - accuracy: 0.7282 - val_loss: 0.5750 - val_accuracy: 0.7204\n",
      "Epoch 33/100\n",
      "97928/97928 [==============================] - 9s 91us/sample - loss: 0.6456 - accuracy: 0.7308 - val_loss: 0.6502 - val_accuracy: 0.6955\n",
      "Epoch 34/100\n",
      "97928/97928 [==============================] - 9s 92us/sample - loss: 0.6445 - accuracy: 0.7316 - val_loss: 1.2385 - val_accuracy: 0.6487\n",
      "Epoch 35/100\n",
      "97928/97928 [==============================] - 9s 92us/sample - loss: 0.6538 - accuracy: 0.7310 - val_loss: 0.6393 - val_accuracy: 0.7023\n",
      "Epoch 36/100\n",
      "97928/97928 [==============================] - 9s 92us/sample - loss: 0.6585 - accuracy: 0.7290 - val_loss: 0.5666 - val_accuracy: 0.7317\n",
      "Epoch 37/100\n",
      "97928/97928 [==============================] - 9s 92us/sample - loss: 0.6457 - accuracy: 0.7319 - val_loss: 1.1460 - val_accuracy: 0.6357\n",
      "Epoch 38/100\n",
      "97928/97928 [==============================] - 9s 92us/sample - loss: 0.6489 - accuracy: 0.7332 - val_loss: 0.6546 - val_accuracy: 0.7168\n",
      "Epoch 39/100\n",
      "97928/97928 [==============================] - 9s 92us/sample - loss: 0.6701 - accuracy: 0.7303 - val_loss: 0.6290 - val_accuracy: 0.7160\n",
      "Epoch 40/100\n",
      "97928/97928 [==============================] - 9s 92us/sample - loss: 0.6548 - accuracy: 0.7327 - val_loss: 0.9771 - val_accuracy: 0.6550\n",
      "Epoch 41/100\n",
      "97928/97928 [==============================] - 9s 92us/sample - loss: 0.6547 - accuracy: 0.7327 - val_loss: 0.7502 - val_accuracy: 0.7103\n",
      "Epoch 42/100\n",
      "97928/97928 [==============================] - 9s 92us/sample - loss: 0.6611 - accuracy: 0.7331 - val_loss: 0.7493 - val_accuracy: 0.7026\n",
      "Epoch 43/100\n",
      "97928/97928 [==============================] - 9s 93us/sample - loss: 0.6466 - accuracy: 0.7330 - val_loss: 0.5192 - val_accuracy: 0.7306\n",
      "Epoch 44/100\n",
      "97928/97928 [==============================] - 9s 92us/sample - loss: 0.6685 - accuracy: 0.7305 - val_loss: 0.5923 - val_accuracy: 0.7128\n",
      "Epoch 45/100\n",
      "97928/97928 [==============================] - 9s 92us/sample - loss: 0.6581 - accuracy: 0.7332 - val_loss: 0.5657 - val_accuracy: 0.7180\n",
      "Epoch 46/100\n",
      "97928/97928 [==============================] - 9s 92us/sample - loss: 0.6676 - accuracy: 0.7319 - val_loss: 0.5342 - val_accuracy: 0.7151\n",
      "Epoch 47/100\n",
      "97928/97928 [==============================] - 9s 92us/sample - loss: 0.6563 - accuracy: 0.7319 - val_loss: 0.6334 - val_accuracy: 0.6959\n",
      "Epoch 48/100\n",
      "97928/97928 [==============================] - 9s 92us/sample - loss: 0.6548 - accuracy: 0.7344 - val_loss: 0.6426 - val_accuracy: 0.7091\n",
      "Epoch 49/100\n",
      "97928/97928 [==============================] - 9s 95us/sample - loss: 0.6551 - accuracy: 0.7346 - val_loss: 0.6617 - val_accuracy: 0.7123\n",
      "Epoch 50/100\n",
      "97928/97928 [==============================] - 9s 93us/sample - loss: 0.6482 - accuracy: 0.7333 - val_loss: 0.7790 - val_accuracy: 0.6897\n",
      "Epoch 51/100\n",
      "97928/97928 [==============================] - 9s 96us/sample - loss: 0.6388 - accuracy: 0.7342 - val_loss: 0.7110 - val_accuracy: 0.6754\n",
      "Epoch 52/100\n",
      "97928/97928 [==============================] - 9s 92us/sample - loss: 0.6702 - accuracy: 0.7331 - val_loss: 0.8524 - val_accuracy: 0.7017\n",
      "Epoch 53/100\n",
      "97928/97928 [==============================] - 9s 92us/sample - loss: 0.6311 - accuracy: 0.7355 - val_loss: 0.6088 - val_accuracy: 0.7028\n",
      "Epoch 54/100\n",
      "97928/97928 [==============================] - 9s 93us/sample - loss: 0.6663 - accuracy: 0.7336 - val_loss: 0.6293 - val_accuracy: 0.6995\n"
     ]
    },
    {
     "name": "stdout",
     "output_type": "stream",
     "text": [
      "Epoch 55/100\n",
      "97928/97928 [==============================] - 9s 90us/sample - loss: 0.6365 - accuracy: 0.7361 - val_loss: 0.8870 - val_accuracy: 0.6711\n",
      "Epoch 56/100\n",
      "97928/97928 [==============================] - 9s 91us/sample - loss: 0.6568 - accuracy: 0.7353 - val_loss: 0.5576 - val_accuracy: 0.7157\n",
      "Epoch 57/100\n",
      "97928/97928 [==============================] - 9s 93us/sample - loss: 0.6454 - accuracy: 0.7349 - val_loss: 0.5363 - val_accuracy: 0.7254\n",
      "Epoch 58/100\n",
      "97928/97928 [==============================] - 9s 92us/sample - loss: 0.6693 - accuracy: 0.7318 - val_loss: 0.6067 - val_accuracy: 0.7055\n",
      "Epoch 59/100\n",
      "97928/97928 [==============================] - 9s 92us/sample - loss: 0.6553 - accuracy: 0.7351 - val_loss: 0.5900 - val_accuracy: 0.7121\n",
      "Epoch 60/100\n",
      "97928/97928 [==============================] - 9s 92us/sample - loss: 0.6303 - accuracy: 0.7374 - val_loss: 0.9406 - val_accuracy: 0.6566\n",
      "Epoch 61/100\n",
      "97928/97928 [==============================] - 9s 92us/sample - loss: 0.6557 - accuracy: 0.7370 - val_loss: 0.5637 - val_accuracy: 0.7188\n",
      "Epoch 62/100\n",
      "97928/97928 [==============================] - 9s 92us/sample - loss: 0.6660 - accuracy: 0.7321 - val_loss: 0.8799 - val_accuracy: 0.6715\n",
      "Epoch 63/100\n",
      "97928/97928 [==============================] - 9s 91us/sample - loss: 0.6479 - accuracy: 0.7358 - val_loss: 0.5498 - val_accuracy: 0.7258\n",
      "Epoch 64/100\n",
      "97928/97928 [==============================] - 9s 92us/sample - loss: 0.6427 - accuracy: 0.7356 - val_loss: 0.6035 - val_accuracy: 0.7007\n",
      "Epoch 65/100\n",
      "97928/97928 [==============================] - 9s 93us/sample - loss: 0.6502 - accuracy: 0.7370 - val_loss: 0.6585 - val_accuracy: 0.7081\n",
      "Epoch 66/100\n",
      "97928/97928 [==============================] - 9s 90us/sample - loss: 0.6351 - accuracy: 0.7385 - val_loss: 0.5414 - val_accuracy: 0.7256\n",
      "Epoch 67/100\n",
      "97928/97928 [==============================] - 9s 92us/sample - loss: 0.6614 - accuracy: 0.7343 - val_loss: 0.7953 - val_accuracy: 0.6886\n",
      "Epoch 68/100\n",
      "97928/97928 [==============================] - 9s 93us/sample - loss: 0.6282 - accuracy: 0.7392 - val_loss: 0.6598 - val_accuracy: 0.6983\n",
      "Epoch 69/100\n",
      "97928/97928 [==============================] - 9s 92us/sample - loss: 0.6459 - accuracy: 0.7382 - val_loss: 0.6018 - val_accuracy: 0.7154\n",
      "Epoch 70/100\n",
      "97928/97928 [==============================] - 9s 92us/sample - loss: 0.6542 - accuracy: 0.7374 - val_loss: 0.8132 - val_accuracy: 0.6797\n",
      "Epoch 71/100\n",
      "97928/97928 [==============================] - 9s 93us/sample - loss: 0.6656 - accuracy: 0.7340 - val_loss: 0.6482 - val_accuracy: 0.7222\n",
      "Epoch 72/100\n",
      "97928/97928 [==============================] - 9s 92us/sample - loss: 0.6611 - accuracy: 0.7371 - val_loss: 0.8508 - val_accuracy: 0.7035\n",
      "Epoch 73/100\n",
      "97928/97928 [==============================] - 9s 92us/sample - loss: 0.6453 - accuracy: 0.7378 - val_loss: 0.5775 - val_accuracy: 0.7085\n",
      "Epoch 74/100\n",
      "97928/97928 [==============================] - 9s 92us/sample - loss: 0.6452 - accuracy: 0.7386 - val_loss: 0.8552 - val_accuracy: 0.6752\n",
      "Epoch 75/100\n",
      "97928/97928 [==============================] - 9s 92us/sample - loss: 0.6537 - accuracy: 0.7377 - val_loss: 0.5436 - val_accuracy: 0.7269\n",
      "Epoch 76/100\n",
      "97928/97928 [==============================] - 9s 92us/sample - loss: 0.6475 - accuracy: 0.7358 - val_loss: 0.6196 - val_accuracy: 0.7091\n",
      "Epoch 77/100\n",
      "97928/97928 [==============================] - 9s 92us/sample - loss: 0.6417 - accuracy: 0.7388 - val_loss: 0.5678 - val_accuracy: 0.7142\n",
      "Epoch 78/100\n",
      "97928/97928 [==============================] - 9s 92us/sample - loss: 0.6248 - accuracy: 0.7409 - val_loss: 0.6145 - val_accuracy: 0.7021\n",
      "Epoch 79/100\n",
      "97928/97928 [==============================] - 9s 92us/sample - loss: 0.6317 - accuracy: 0.7396 - val_loss: 0.9052 - val_accuracy: 0.6476\n",
      "Epoch 80/100\n",
      "97928/97928 [==============================] - 9s 92us/sample - loss: 0.6265 - accuracy: 0.7398 - val_loss: 0.6605 - val_accuracy: 0.7044\n",
      "Epoch 81/100\n",
      "97928/97928 [==============================] - 9s 92us/sample - loss: 0.6424 - accuracy: 0.7390 - val_loss: 0.7193 - val_accuracy: 0.6753\n",
      "Epoch 82/100\n",
      "97928/97928 [==============================] - 9s 92us/sample - loss: 0.6330 - accuracy: 0.7380 - val_loss: 1.2934 - val_accuracy: 0.6285\n",
      "Epoch 83/100\n",
      "97928/97928 [==============================] - 9s 92us/sample - loss: 0.6544 - accuracy: 0.7378 - val_loss: 0.6515 - val_accuracy: 0.6998\n",
      "Epoch 84/100\n",
      "97928/97928 [==============================] - 9s 93us/sample - loss: 0.6418 - accuracy: 0.7366 - val_loss: 0.5524 - val_accuracy: 0.7169\n",
      "Epoch 85/100\n",
      "97928/97928 [==============================] - 9s 92us/sample - loss: 0.6236 - accuracy: 0.7400 - val_loss: 0.6490 - val_accuracy: 0.7209\n",
      "Epoch 86/100\n",
      "97928/97928 [==============================] - 9s 92us/sample - loss: 0.6499 - accuracy: 0.7369 - val_loss: 0.5868 - val_accuracy: 0.7166\n",
      "Epoch 87/100\n",
      "97928/97928 [==============================] - 9s 92us/sample - loss: 0.6230 - accuracy: 0.7413 - val_loss: 0.5816 - val_accuracy: 0.7144\n",
      "Epoch 88/100\n",
      "97928/97928 [==============================] - 9s 92us/sample - loss: 0.6210 - accuracy: 0.7415 - val_loss: 0.5969 - val_accuracy: 0.7249\n",
      "Epoch 89/100\n",
      "97928/97928 [==============================] - 9s 92us/sample - loss: 0.6629 - accuracy: 0.7368 - val_loss: 0.9911 - val_accuracy: 0.6392\n",
      "Epoch 90/100\n",
      "97928/97928 [==============================] - 9s 92us/sample - loss: 0.6464 - accuracy: 0.7375 - val_loss: 0.8792 - val_accuracy: 0.6689\n",
      "Epoch 91/100\n",
      "97928/97928 [==============================] - 9s 93us/sample - loss: 0.6591 - accuracy: 0.7367 - val_loss: 0.9575 - val_accuracy: 0.6738\n",
      "Epoch 92/100\n",
      "97928/97928 [==============================] - 9s 92us/sample - loss: 0.6603 - accuracy: 0.7381 - val_loss: 0.7468 - val_accuracy: 0.6958\n",
      "Epoch 93/100\n",
      "97928/97928 [==============================] - 9s 92us/sample - loss: 0.6308 - accuracy: 0.7415 - val_loss: 0.5432 - val_accuracy: 0.7171\n",
      "Epoch 94/100\n",
      "97928/97928 [==============================] - 9s 92us/sample - loss: 0.6378 - accuracy: 0.7385 - val_loss: 0.7202 - val_accuracy: 0.7157\n",
      "Epoch 95/100\n",
      "97928/97928 [==============================] - 9s 92us/sample - loss: 0.6352 - accuracy: 0.7403 - val_loss: 0.5468 - val_accuracy: 0.7193\n",
      "Epoch 96/100\n",
      "97928/97928 [==============================] - 9s 92us/sample - loss: 0.6528 - accuracy: 0.7374 - val_loss: 0.8023 - val_accuracy: 0.6839\n",
      "Epoch 97/100\n",
      "97928/97928 [==============================] - 9s 92us/sample - loss: 0.6402 - accuracy: 0.7385 - val_loss: 0.5352 - val_accuracy: 0.7231\n",
      "Epoch 98/100\n",
      "97928/97928 [==============================] - 9s 92us/sample - loss: 0.6597 - accuracy: 0.7379 - val_loss: 0.6991 - val_accuracy: 0.6954\n",
      "Epoch 99/100\n",
      "97928/97928 [==============================] - 9s 92us/sample - loss: 0.6253 - accuracy: 0.7412 - val_loss: 0.5371 - val_accuracy: 0.7245\n",
      "Epoch 100/100\n",
      "97928/97928 [==============================] - 9s 92us/sample - loss: 0.6221 - accuracy: 0.7404 - val_loss: 0.5286 - val_accuracy: 0.7203\n"
     ]
    },
    {
     "data": {
      "text/plain": [
       "<tensorflow.python.keras.callbacks.History at 0x211ca3cf2c8>"
      ]
     },
     "execution_count": 155,
     "metadata": {},
     "output_type": "execute_result"
    }
   ],
   "source": [
    "model4.fit(X, y, epochs=100, batch_size=32, validation_split = .2)"
   ]
  },
  {
   "cell_type": "markdown",
   "metadata": {},
   "source": [
    "## Normalizacija podataka i novi eksperimenti"
   ]
  },
  {
   "cell_type": "code",
   "execution_count": 61,
   "metadata": {},
   "outputs": [],
   "source": [
    "normalized_dataset=(dataset-dataset.min())/(dataset.max()-dataset.min()) - 0.5"
   ]
  },
  {
   "cell_type": "code",
   "execution_count": 62,
   "metadata": {},
   "outputs": [
    {
     "data": {
      "text/html": [
       "<div>\n",
       "<style scoped>\n",
       "    .dataframe tbody tr th:only-of-type {\n",
       "        vertical-align: middle;\n",
       "    }\n",
       "\n",
       "    .dataframe tbody tr th {\n",
       "        vertical-align: top;\n",
       "    }\n",
       "\n",
       "    .dataframe thead th {\n",
       "        text-align: right;\n",
       "    }\n",
       "</style>\n",
       "<table border=\"1\" class=\"dataframe\">\n",
       "  <thead>\n",
       "    <tr style=\"text-align: right;\">\n",
       "      <th></th>\n",
       "      <th>time_left</th>\n",
       "      <th>ct_score</th>\n",
       "      <th>t_score</th>\n",
       "      <th>bomb_planted</th>\n",
       "      <th>ct_health</th>\n",
       "      <th>t_health</th>\n",
       "      <th>ct_armor</th>\n",
       "      <th>t_armor</th>\n",
       "      <th>ct_money</th>\n",
       "      <th>t_money</th>\n",
       "      <th>...</th>\n",
       "      <th>t_grenade_decoygrenade</th>\n",
       "      <th>round_winner</th>\n",
       "      <th>map_de_cache</th>\n",
       "      <th>map_de_dust2</th>\n",
       "      <th>map_de_inferno</th>\n",
       "      <th>map_de_mirage</th>\n",
       "      <th>map_de_nuke</th>\n",
       "      <th>map_de_overpass</th>\n",
       "      <th>map_de_train</th>\n",
       "      <th>map_de_vertigo</th>\n",
       "    </tr>\n",
       "  </thead>\n",
       "  <tbody>\n",
       "    <tr>\n",
       "      <th>0</th>\n",
       "      <td>0.500000</td>\n",
       "      <td>-0.50000</td>\n",
       "      <td>-0.5</td>\n",
       "      <td>-0.5</td>\n",
       "      <td>0.500</td>\n",
       "      <td>0.333333</td>\n",
       "      <td>-0.500</td>\n",
       "      <td>-0.5</td>\n",
       "      <td>-0.450000</td>\n",
       "      <td>-0.450000</td>\n",
       "      <td>...</td>\n",
       "      <td>-0.5</td>\n",
       "      <td>0.5</td>\n",
       "      <td>-0.5</td>\n",
       "      <td>0.5</td>\n",
       "      <td>-0.5</td>\n",
       "      <td>-0.5</td>\n",
       "      <td>-0.5</td>\n",
       "      <td>-0.5</td>\n",
       "      <td>-0.5</td>\n",
       "      <td>-0.5</td>\n",
       "    </tr>\n",
       "    <tr>\n",
       "      <th>1</th>\n",
       "      <td>0.391594</td>\n",
       "      <td>-0.50000</td>\n",
       "      <td>-0.5</td>\n",
       "      <td>-0.5</td>\n",
       "      <td>0.500</td>\n",
       "      <td>0.333333</td>\n",
       "      <td>0.300</td>\n",
       "      <td>0.1</td>\n",
       "      <td>-0.492500</td>\n",
       "      <td>-0.491875</td>\n",
       "      <td>...</td>\n",
       "      <td>-0.5</td>\n",
       "      <td>0.5</td>\n",
       "      <td>-0.5</td>\n",
       "      <td>0.5</td>\n",
       "      <td>-0.5</td>\n",
       "      <td>-0.5</td>\n",
       "      <td>-0.5</td>\n",
       "      <td>-0.5</td>\n",
       "      <td>-0.5</td>\n",
       "      <td>-0.5</td>\n",
       "    </tr>\n",
       "    <tr>\n",
       "      <th>2</th>\n",
       "      <td>0.048717</td>\n",
       "      <td>-0.50000</td>\n",
       "      <td>-0.5</td>\n",
       "      <td>-0.5</td>\n",
       "      <td>0.282</td>\n",
       "      <td>0.166667</td>\n",
       "      <td>0.088</td>\n",
       "      <td>-0.1</td>\n",
       "      <td>-0.490625</td>\n",
       "      <td>-0.493750</td>\n",
       "      <td>...</td>\n",
       "      <td>-0.5</td>\n",
       "      <td>0.5</td>\n",
       "      <td>-0.5</td>\n",
       "      <td>0.5</td>\n",
       "      <td>-0.5</td>\n",
       "      <td>-0.5</td>\n",
       "      <td>-0.5</td>\n",
       "      <td>-0.5</td>\n",
       "      <td>-0.5</td>\n",
       "      <td>-0.5</td>\n",
       "    </tr>\n",
       "    <tr>\n",
       "      <th>3</th>\n",
       "      <td>-0.065575</td>\n",
       "      <td>-0.50000</td>\n",
       "      <td>-0.5</td>\n",
       "      <td>-0.5</td>\n",
       "      <td>0.282</td>\n",
       "      <td>0.166667</td>\n",
       "      <td>0.088</td>\n",
       "      <td>-0.1</td>\n",
       "      <td>-0.490625</td>\n",
       "      <td>-0.493750</td>\n",
       "      <td>...</td>\n",
       "      <td>-0.5</td>\n",
       "      <td>0.5</td>\n",
       "      <td>-0.5</td>\n",
       "      <td>0.5</td>\n",
       "      <td>-0.5</td>\n",
       "      <td>-0.5</td>\n",
       "      <td>-0.5</td>\n",
       "      <td>-0.5</td>\n",
       "      <td>-0.5</td>\n",
       "      <td>-0.5</td>\n",
       "    </tr>\n",
       "    <tr>\n",
       "      <th>4</th>\n",
       "      <td>0.499829</td>\n",
       "      <td>-0.46875</td>\n",
       "      <td>-0.5</td>\n",
       "      <td>-0.5</td>\n",
       "      <td>0.500</td>\n",
       "      <td>0.333333</td>\n",
       "      <td>-0.116</td>\n",
       "      <td>-0.5</td>\n",
       "      <td>-0.270625</td>\n",
       "      <td>-0.365625</td>\n",
       "      <td>...</td>\n",
       "      <td>-0.5</td>\n",
       "      <td>0.5</td>\n",
       "      <td>-0.5</td>\n",
       "      <td>0.5</td>\n",
       "      <td>-0.5</td>\n",
       "      <td>-0.5</td>\n",
       "      <td>-0.5</td>\n",
       "      <td>-0.5</td>\n",
       "      <td>-0.5</td>\n",
       "      <td>-0.5</td>\n",
       "    </tr>\n",
       "  </tbody>\n",
       "</table>\n",
       "<p>5 rows × 104 columns</p>\n",
       "</div>"
      ],
      "text/plain": [
       "   time_left  ct_score  t_score  bomb_planted  ct_health  t_health  ct_armor  \\\n",
       "0   0.500000  -0.50000     -0.5          -0.5      0.500  0.333333    -0.500   \n",
       "1   0.391594  -0.50000     -0.5          -0.5      0.500  0.333333     0.300   \n",
       "2   0.048717  -0.50000     -0.5          -0.5      0.282  0.166667     0.088   \n",
       "3  -0.065575  -0.50000     -0.5          -0.5      0.282  0.166667     0.088   \n",
       "4   0.499829  -0.46875     -0.5          -0.5      0.500  0.333333    -0.116   \n",
       "\n",
       "   t_armor  ct_money   t_money  ...  t_grenade_decoygrenade  round_winner  \\\n",
       "0     -0.5 -0.450000 -0.450000  ...                    -0.5           0.5   \n",
       "1      0.1 -0.492500 -0.491875  ...                    -0.5           0.5   \n",
       "2     -0.1 -0.490625 -0.493750  ...                    -0.5           0.5   \n",
       "3     -0.1 -0.490625 -0.493750  ...                    -0.5           0.5   \n",
       "4     -0.5 -0.270625 -0.365625  ...                    -0.5           0.5   \n",
       "\n",
       "   map_de_cache  map_de_dust2  map_de_inferno  map_de_mirage  map_de_nuke  \\\n",
       "0          -0.5           0.5            -0.5           -0.5         -0.5   \n",
       "1          -0.5           0.5            -0.5           -0.5         -0.5   \n",
       "2          -0.5           0.5            -0.5           -0.5         -0.5   \n",
       "3          -0.5           0.5            -0.5           -0.5         -0.5   \n",
       "4          -0.5           0.5            -0.5           -0.5         -0.5   \n",
       "\n",
       "   map_de_overpass  map_de_train  map_de_vertigo  \n",
       "0             -0.5          -0.5            -0.5  \n",
       "1             -0.5          -0.5            -0.5  \n",
       "2             -0.5          -0.5            -0.5  \n",
       "3             -0.5          -0.5            -0.5  \n",
       "4             -0.5          -0.5            -0.5  \n",
       "\n",
       "[5 rows x 104 columns]"
      ]
     },
     "execution_count": 62,
     "metadata": {},
     "output_type": "execute_result"
    }
   ],
   "source": [
    "normalized_dataset.head()"
   ]
  },
  {
   "cell_type": "code",
   "execution_count": 43,
   "metadata": {},
   "outputs": [],
   "source": [
    "model = Sequential()\n",
    "model.add(Dense(64, activation='relu', input_shape = (103,) ))\n",
    "model.add(Dense(32, activation='relu'))\n",
    "model.add(Dense(16, activation='relu'))\n",
    "model.add(Dense(8, activation='relu'))\n",
    "model.add(Dense(1, activation='sigmoid'))\n",
    "\n",
    "model.compile(optimizer='adam', loss='binary_crossentropy', metrics=['accuracy'])"
   ]
  },
  {
   "cell_type": "code",
   "execution_count": 80,
   "metadata": {},
   "outputs": [
    {
     "name": "stdout",
     "output_type": "stream",
     "text": [
      "Train on 97928 samples, validate on 24482 samples\n",
      "Epoch 1/10\n",
      " 2048/97928 [..............................] - ETA: 17:33 - loss: 1.1634 - accuracy: 0.6138"
     ]
    },
    {
     "ename": "KeyboardInterrupt",
     "evalue": "",
     "output_type": "error",
     "traceback": [
      "\u001b[1;31m---------------------------------------------------------------------------\u001b[0m",
      "\u001b[1;31mKeyboardInterrupt\u001b[0m                         Traceback (most recent call last)",
      "\u001b[1;32m<ipython-input-80-87ea41fe443e>\u001b[0m in \u001b[0;36m<module>\u001b[1;34m\u001b[0m\n\u001b[1;32m----> 1\u001b[1;33m \u001b[0mhistory\u001b[0m \u001b[1;33m=\u001b[0m \u001b[0mmodel\u001b[0m\u001b[1;33m.\u001b[0m\u001b[0mfit\u001b[0m\u001b[1;33m(\u001b[0m\u001b[0mX\u001b[0m\u001b[1;33m,\u001b[0m \u001b[0my\u001b[0m\u001b[1;33m,\u001b[0m \u001b[0mepochs\u001b[0m\u001b[1;33m=\u001b[0m\u001b[1;36m10\u001b[0m\u001b[1;33m,\u001b[0m \u001b[0mbatch_size\u001b[0m\u001b[1;33m=\u001b[0m\u001b[1;36m32\u001b[0m\u001b[1;33m,\u001b[0m \u001b[0mvalidation_split\u001b[0m \u001b[1;33m=\u001b[0m \u001b[1;36m.2\u001b[0m\u001b[1;33m)\u001b[0m\u001b[1;33m\u001b[0m\u001b[1;33m\u001b[0m\u001b[0m\n\u001b[0m",
      "\u001b[1;32mc:\\users\\admin200918\\appdata\\local\\programs\\python\\python37\\lib\\site-packages\\tensorflow\\python\\keras\\engine\\training_v1.py\u001b[0m in \u001b[0;36mfit\u001b[1;34m(self, x, y, batch_size, epochs, verbose, callbacks, validation_split, validation_data, shuffle, class_weight, sample_weight, initial_epoch, steps_per_epoch, validation_steps, validation_freq, max_queue_size, workers, use_multiprocessing, **kwargs)\u001b[0m\n\u001b[0;32m    806\u001b[0m         \u001b[0mmax_queue_size\u001b[0m\u001b[1;33m=\u001b[0m\u001b[0mmax_queue_size\u001b[0m\u001b[1;33m,\u001b[0m\u001b[1;33m\u001b[0m\u001b[1;33m\u001b[0m\u001b[0m\n\u001b[0;32m    807\u001b[0m         \u001b[0mworkers\u001b[0m\u001b[1;33m=\u001b[0m\u001b[0mworkers\u001b[0m\u001b[1;33m,\u001b[0m\u001b[1;33m\u001b[0m\u001b[1;33m\u001b[0m\u001b[0m\n\u001b[1;32m--> 808\u001b[1;33m         use_multiprocessing=use_multiprocessing)\n\u001b[0m\u001b[0;32m    809\u001b[0m \u001b[1;33m\u001b[0m\u001b[0m\n\u001b[0;32m    810\u001b[0m   def evaluate(self,\n",
      "\u001b[1;32mc:\\users\\admin200918\\appdata\\local\\programs\\python\\python37\\lib\\site-packages\\tensorflow\\python\\keras\\engine\\training_arrays_v1.py\u001b[0m in \u001b[0;36mfit\u001b[1;34m(self, model, x, y, batch_size, epochs, verbose, callbacks, validation_split, validation_data, shuffle, class_weight, sample_weight, initial_epoch, steps_per_epoch, validation_steps, validation_freq, **kwargs)\u001b[0m\n\u001b[0;32m    662\u001b[0m         \u001b[0mvalidation_steps\u001b[0m\u001b[1;33m=\u001b[0m\u001b[0mvalidation_steps\u001b[0m\u001b[1;33m,\u001b[0m\u001b[1;33m\u001b[0m\u001b[1;33m\u001b[0m\u001b[0m\n\u001b[0;32m    663\u001b[0m         \u001b[0mvalidation_freq\u001b[0m\u001b[1;33m=\u001b[0m\u001b[0mvalidation_freq\u001b[0m\u001b[1;33m,\u001b[0m\u001b[1;33m\u001b[0m\u001b[1;33m\u001b[0m\u001b[0m\n\u001b[1;32m--> 664\u001b[1;33m         steps_name='steps_per_epoch')\n\u001b[0m\u001b[0;32m    665\u001b[0m \u001b[1;33m\u001b[0m\u001b[0m\n\u001b[0;32m    666\u001b[0m   def evaluate(self,\n",
      "\u001b[1;32mc:\\users\\admin200918\\appdata\\local\\programs\\python\\python37\\lib\\site-packages\\tensorflow\\python\\keras\\engine\\training_arrays_v1.py\u001b[0m in \u001b[0;36mmodel_iteration\u001b[1;34m(model, inputs, targets, sample_weights, batch_size, epochs, verbose, callbacks, val_inputs, val_targets, val_sample_weights, shuffle, initial_epoch, steps_per_epoch, validation_steps, validation_freq, mode, validation_in_fit, prepared_feed_values_from_dataset, steps_name, **kwargs)\u001b[0m\n\u001b[0;32m    382\u001b[0m \u001b[1;33m\u001b[0m\u001b[0m\n\u001b[0;32m    383\u001b[0m         \u001b[1;31m# Get outputs.\u001b[0m\u001b[1;33m\u001b[0m\u001b[1;33m\u001b[0m\u001b[1;33m\u001b[0m\u001b[0m\n\u001b[1;32m--> 384\u001b[1;33m         \u001b[0mbatch_outs\u001b[0m \u001b[1;33m=\u001b[0m \u001b[0mf\u001b[0m\u001b[1;33m(\u001b[0m\u001b[0mins_batch\u001b[0m\u001b[1;33m)\u001b[0m\u001b[1;33m\u001b[0m\u001b[1;33m\u001b[0m\u001b[0m\n\u001b[0m\u001b[0;32m    385\u001b[0m         \u001b[1;32mif\u001b[0m \u001b[1;32mnot\u001b[0m \u001b[0misinstance\u001b[0m\u001b[1;33m(\u001b[0m\u001b[0mbatch_outs\u001b[0m\u001b[1;33m,\u001b[0m \u001b[0mlist\u001b[0m\u001b[1;33m)\u001b[0m\u001b[1;33m:\u001b[0m\u001b[1;33m\u001b[0m\u001b[1;33m\u001b[0m\u001b[0m\n\u001b[0;32m    386\u001b[0m           \u001b[0mbatch_outs\u001b[0m \u001b[1;33m=\u001b[0m \u001b[1;33m[\u001b[0m\u001b[0mbatch_outs\u001b[0m\u001b[1;33m]\u001b[0m\u001b[1;33m\u001b[0m\u001b[1;33m\u001b[0m\u001b[0m\n",
      "\u001b[1;32mc:\\users\\admin200918\\appdata\\local\\programs\\python\\python37\\lib\\site-packages\\tensorflow\\python\\keras\\backend.py\u001b[0m in \u001b[0;36m__call__\u001b[1;34m(self, inputs)\u001b[0m\n\u001b[0;32m   3955\u001b[0m \u001b[1;33m\u001b[0m\u001b[0m\n\u001b[0;32m   3956\u001b[0m     fetched = self._callable_fn(*array_vals,\n\u001b[1;32m-> 3957\u001b[1;33m                                 run_metadata=self.run_metadata)\n\u001b[0m\u001b[0;32m   3958\u001b[0m     \u001b[0mself\u001b[0m\u001b[1;33m.\u001b[0m\u001b[0m_call_fetch_callbacks\u001b[0m\u001b[1;33m(\u001b[0m\u001b[0mfetched\u001b[0m\u001b[1;33m[\u001b[0m\u001b[1;33m-\u001b[0m\u001b[0mlen\u001b[0m\u001b[1;33m(\u001b[0m\u001b[0mself\u001b[0m\u001b[1;33m.\u001b[0m\u001b[0m_fetches\u001b[0m\u001b[1;33m)\u001b[0m\u001b[1;33m:\u001b[0m\u001b[1;33m]\u001b[0m\u001b[1;33m)\u001b[0m\u001b[1;33m\u001b[0m\u001b[1;33m\u001b[0m\u001b[0m\n\u001b[0;32m   3959\u001b[0m     output_structure = nest.pack_sequence_as(\n",
      "\u001b[1;32mc:\\users\\admin200918\\appdata\\local\\programs\\python\\python37\\lib\\site-packages\\tensorflow\\python\\client\\session.py\u001b[0m in \u001b[0;36m__call__\u001b[1;34m(self, *args, **kwargs)\u001b[0m\n\u001b[0;32m   1480\u001b[0m         ret = tf_session.TF_SessionRunCallable(self._session._session,\n\u001b[0;32m   1481\u001b[0m                                                \u001b[0mself\u001b[0m\u001b[1;33m.\u001b[0m\u001b[0m_handle\u001b[0m\u001b[1;33m,\u001b[0m \u001b[0margs\u001b[0m\u001b[1;33m,\u001b[0m\u001b[1;33m\u001b[0m\u001b[1;33m\u001b[0m\u001b[0m\n\u001b[1;32m-> 1482\u001b[1;33m                                                run_metadata_ptr)\n\u001b[0m\u001b[0;32m   1483\u001b[0m         \u001b[1;32mif\u001b[0m \u001b[0mrun_metadata\u001b[0m\u001b[1;33m:\u001b[0m\u001b[1;33m\u001b[0m\u001b[1;33m\u001b[0m\u001b[0m\n\u001b[0;32m   1484\u001b[0m           \u001b[0mproto_data\u001b[0m \u001b[1;33m=\u001b[0m \u001b[0mtf_session\u001b[0m\u001b[1;33m.\u001b[0m\u001b[0mTF_GetBuffer\u001b[0m\u001b[1;33m(\u001b[0m\u001b[0mrun_metadata_ptr\u001b[0m\u001b[1;33m)\u001b[0m\u001b[1;33m\u001b[0m\u001b[1;33m\u001b[0m\u001b[0m\n",
      "\u001b[1;31mKeyboardInterrupt\u001b[0m: "
     ]
    }
   ],
   "source": [
    "history = model.fit(X, y, epochs=10, batch_size=32, validation_split = .2)"
   ]
  },
  {
   "cell_type": "code",
   "execution_count": null,
   "metadata": {},
   "outputs": [],
   "source": [
    "training_loss = history.history['loss']\n",
    "test_loss = history.history['val_loss']\n",
    "\n",
    "# Create count of the number of epochs\n",
    "epoch_count = range(1, len(training_loss) + 1)\n",
    "\n",
    "# Visualize loss history\n",
    "plt.plot(epoch_count, training_loss, 'r--')\n",
    "plt.plot(epoch_count, test_loss, 'b-')\n",
    "plt.legend(['Training Loss', 'Test Loss'])\n",
    "plt.xlabel('Epoch')\n",
    "plt.ylabel('Loss')\n",
    "plt.show();"
   ]
  },
  {
   "cell_type": "code",
   "execution_count": 63,
   "metadata": {},
   "outputs": [],
   "source": [
    "opt = keras.optimizers.Adam(learning_rate=0.00001)\n",
    "\n",
    "model = Sequential()\n",
    "model.add(Dense(1000, activation='relu', input_shape = (103,) ))\n",
    "model.add(Dense(1, activation='sigmoid'))\n",
    "\n",
    "model.compile(optimizer=opt, loss='binary_crossentropy', metrics=['accuracy'])"
   ]
  },
  {
   "cell_type": "code",
   "execution_count": 64,
   "metadata": {
    "scrolled": true
   },
   "outputs": [
    {
     "name": "stdout",
     "output_type": "stream",
     "text": [
      "Train on 97928 samples, validate on 24482 samples\n",
      "Epoch 1/10\n",
      "97856/97928 [============================>.] - ETA: 0s - loss: 4.8437 - accuracy: 0.6206"
     ]
    },
    {
     "name": "stderr",
     "output_type": "stream",
     "text": [
      "c:\\users\\admin200918\\appdata\\local\\programs\\python\\python37\\lib\\site-packages\\tensorflow\\python\\keras\\engine\\training.py:2325: UserWarning: `Model.state_updates` will be removed in a future version. This property should not be used in TensorFlow 2.0, as `updates` are applied automatically.\n",
      "  warnings.warn('`Model.state_updates` will be removed in a future version. '\n"
     ]
    },
    {
     "name": "stdout",
     "output_type": "stream",
     "text": [
      "97928/97928 [==============================] - 14s 147us/sample - loss: 4.8408 - accuracy: 0.6207 - val_loss: 0.7913 - val_accuracy: 0.7098\n",
      "Epoch 2/10\n",
      "97928/97928 [==============================] - 16s 164us/sample - loss: 0.8632 - accuracy: 0.7002 - val_loss: 0.7803 - val_accuracy: 0.6904\n",
      "Epoch 3/10\n",
      "97928/97928 [==============================] - 16s 159us/sample - loss: 0.8110 - accuracy: 0.7073 - val_loss: 0.7647 - val_accuracy: 0.6945\n",
      "Epoch 4/10\n",
      "97928/97928 [==============================] - 17s 172us/sample - loss: 0.7929 - accuracy: 0.7090 - val_loss: 0.8208 - val_accuracy: 0.6834\n",
      "Epoch 5/10\n",
      "97928/97928 [==============================] - 16s 165us/sample - loss: 0.7454 - accuracy: 0.7146 - val_loss: 0.5859 - val_accuracy: 0.7095\n",
      "Epoch 6/10\n",
      "97928/97928 [==============================] - 17s 169us/sample - loss: 0.7124 - accuracy: 0.7157 - val_loss: 0.6954 - val_accuracy: 0.7193\n",
      "Epoch 7/10\n",
      "97928/97928 [==============================] - 11s 115us/sample - loss: 0.7049 - accuracy: 0.7184 - val_loss: 0.7866 - val_accuracy: 0.6896\n",
      "Epoch 8/10\n",
      "97928/97928 [==============================] - 16s 163us/sample - loss: 0.7073 - accuracy: 0.7200 - val_loss: 0.6663 - val_accuracy: 0.7020\n",
      "Epoch 9/10\n",
      "97928/97928 [==============================] - 16s 166us/sample - loss: 0.6975 - accuracy: 0.7229 - val_loss: 0.6167 - val_accuracy: 0.7053\n",
      "Epoch 10/10\n",
      "97928/97928 [==============================] - 18s 188us/sample - loss: 0.7202 - accuracy: 0.7197 - val_loss: 0.8964 - val_accuracy: 0.6674\n"
     ]
    },
    {
     "data": {
      "text/plain": [
       "<tensorflow.python.keras.callbacks.History at 0x185b232eb48>"
      ]
     },
     "execution_count": 64,
     "metadata": {},
     "output_type": "execute_result"
    }
   ],
   "source": [
    "model.fit(X, y, epochs=10, batch_size=32, validation_split = .2)"
   ]
  },
  {
   "cell_type": "code",
   "execution_count": 65,
   "metadata": {},
   "outputs": [],
   "source": [
    "opt = keras.optimizers.Adam(learning_rate=0.0001)\n",
    "\n",
    "model = Sequential()\n",
    "model.add(Dense(1000, activation='relu', input_shape = (103,) ))\n",
    "model.add(Dense(1, activation='sigmoid'))\n",
    "\n",
    "model.compile(optimizer=opt, loss='binary_crossentropy', metrics=['accuracy'])"
   ]
  },
  {
   "cell_type": "code",
   "execution_count": 66,
   "metadata": {
    "scrolled": true
   },
   "outputs": [
    {
     "name": "stdout",
     "output_type": "stream",
     "text": [
      "Train on 97928 samples, validate on 24482 samples\n",
      "Epoch 1/10\n",
      "97928/97928 [==============================] - 16s 167us/sample - loss: 5.0984 - accuracy: 0.6757 - val_loss: 12.5930 - val_accuracy: 0.5799\n",
      "Epoch 2/10\n",
      "97928/97928 [==============================] - 16s 168us/sample - loss: 3.4648 - accuracy: 0.6895 - val_loss: 2.4071 - val_accuracy: 0.7088\n",
      "Epoch 3/10\n",
      "97928/97928 [==============================] - 17s 173us/sample - loss: 3.3340 - accuracy: 0.6898 - val_loss: 1.6810 - val_accuracy: 0.6992\n",
      "Epoch 4/10\n",
      "97928/97928 [==============================] - 16s 162us/sample - loss: 3.2316 - accuracy: 0.6954 - val_loss: 3.4895 - val_accuracy: 0.6873\n",
      "Epoch 5/10\n",
      "97928/97928 [==============================] - 15s 157us/sample - loss: 3.5455 - accuracy: 0.6930 - val_loss: 2.0183 - val_accuracy: 0.6961\n",
      "Epoch 6/10\n",
      "97928/97928 [==============================] - 18s 179us/sample - loss: 3.1389 - accuracy: 0.6981 - val_loss: 3.2108 - val_accuracy: 0.6689\n",
      "Epoch 7/10\n",
      "31552/97928 [========>.....................] - ETA: 10s - loss: 3.1605 - accuracy: 0.7017"
     ]
    },
    {
     "ename": "KeyboardInterrupt",
     "evalue": "",
     "output_type": "error",
     "traceback": [
      "\u001b[1;31m---------------------------------------------------------------------------\u001b[0m",
      "\u001b[1;31mKeyboardInterrupt\u001b[0m                         Traceback (most recent call last)",
      "\u001b[1;32m<ipython-input-66-1d7ac60f2c72>\u001b[0m in \u001b[0;36m<module>\u001b[1;34m\u001b[0m\n\u001b[1;32m----> 1\u001b[1;33m \u001b[0mmodel\u001b[0m\u001b[1;33m.\u001b[0m\u001b[0mfit\u001b[0m\u001b[1;33m(\u001b[0m\u001b[0mX\u001b[0m\u001b[1;33m,\u001b[0m \u001b[0my\u001b[0m\u001b[1;33m,\u001b[0m \u001b[0mepochs\u001b[0m\u001b[1;33m=\u001b[0m\u001b[1;36m10\u001b[0m\u001b[1;33m,\u001b[0m \u001b[0mbatch_size\u001b[0m\u001b[1;33m=\u001b[0m\u001b[1;36m32\u001b[0m\u001b[1;33m,\u001b[0m \u001b[0mvalidation_split\u001b[0m \u001b[1;33m=\u001b[0m \u001b[1;36m.2\u001b[0m\u001b[1;33m)\u001b[0m\u001b[1;33m\u001b[0m\u001b[1;33m\u001b[0m\u001b[0m\n\u001b[0m",
      "\u001b[1;32mc:\\users\\admin200918\\appdata\\local\\programs\\python\\python37\\lib\\site-packages\\tensorflow\\python\\keras\\engine\\training_v1.py\u001b[0m in \u001b[0;36mfit\u001b[1;34m(self, x, y, batch_size, epochs, verbose, callbacks, validation_split, validation_data, shuffle, class_weight, sample_weight, initial_epoch, steps_per_epoch, validation_steps, validation_freq, max_queue_size, workers, use_multiprocessing, **kwargs)\u001b[0m\n\u001b[0;32m    806\u001b[0m         \u001b[0mmax_queue_size\u001b[0m\u001b[1;33m=\u001b[0m\u001b[0mmax_queue_size\u001b[0m\u001b[1;33m,\u001b[0m\u001b[1;33m\u001b[0m\u001b[1;33m\u001b[0m\u001b[0m\n\u001b[0;32m    807\u001b[0m         \u001b[0mworkers\u001b[0m\u001b[1;33m=\u001b[0m\u001b[0mworkers\u001b[0m\u001b[1;33m,\u001b[0m\u001b[1;33m\u001b[0m\u001b[1;33m\u001b[0m\u001b[0m\n\u001b[1;32m--> 808\u001b[1;33m         use_multiprocessing=use_multiprocessing)\n\u001b[0m\u001b[0;32m    809\u001b[0m \u001b[1;33m\u001b[0m\u001b[0m\n\u001b[0;32m    810\u001b[0m   def evaluate(self,\n",
      "\u001b[1;32mc:\\users\\admin200918\\appdata\\local\\programs\\python\\python37\\lib\\site-packages\\tensorflow\\python\\keras\\engine\\training_arrays_v1.py\u001b[0m in \u001b[0;36mfit\u001b[1;34m(self, model, x, y, batch_size, epochs, verbose, callbacks, validation_split, validation_data, shuffle, class_weight, sample_weight, initial_epoch, steps_per_epoch, validation_steps, validation_freq, **kwargs)\u001b[0m\n\u001b[0;32m    662\u001b[0m         \u001b[0mvalidation_steps\u001b[0m\u001b[1;33m=\u001b[0m\u001b[0mvalidation_steps\u001b[0m\u001b[1;33m,\u001b[0m\u001b[1;33m\u001b[0m\u001b[1;33m\u001b[0m\u001b[0m\n\u001b[0;32m    663\u001b[0m         \u001b[0mvalidation_freq\u001b[0m\u001b[1;33m=\u001b[0m\u001b[0mvalidation_freq\u001b[0m\u001b[1;33m,\u001b[0m\u001b[1;33m\u001b[0m\u001b[1;33m\u001b[0m\u001b[0m\n\u001b[1;32m--> 664\u001b[1;33m         steps_name='steps_per_epoch')\n\u001b[0m\u001b[0;32m    665\u001b[0m \u001b[1;33m\u001b[0m\u001b[0m\n\u001b[0;32m    666\u001b[0m   def evaluate(self,\n",
      "\u001b[1;32mc:\\users\\admin200918\\appdata\\local\\programs\\python\\python37\\lib\\site-packages\\tensorflow\\python\\keras\\engine\\training_arrays_v1.py\u001b[0m in \u001b[0;36mmodel_iteration\u001b[1;34m(model, inputs, targets, sample_weights, batch_size, epochs, verbose, callbacks, val_inputs, val_targets, val_sample_weights, shuffle, initial_epoch, steps_per_epoch, validation_steps, validation_freq, mode, validation_in_fit, prepared_feed_values_from_dataset, steps_name, **kwargs)\u001b[0m\n\u001b[0;32m    382\u001b[0m \u001b[1;33m\u001b[0m\u001b[0m\n\u001b[0;32m    383\u001b[0m         \u001b[1;31m# Get outputs.\u001b[0m\u001b[1;33m\u001b[0m\u001b[1;33m\u001b[0m\u001b[1;33m\u001b[0m\u001b[0m\n\u001b[1;32m--> 384\u001b[1;33m         \u001b[0mbatch_outs\u001b[0m \u001b[1;33m=\u001b[0m \u001b[0mf\u001b[0m\u001b[1;33m(\u001b[0m\u001b[0mins_batch\u001b[0m\u001b[1;33m)\u001b[0m\u001b[1;33m\u001b[0m\u001b[1;33m\u001b[0m\u001b[0m\n\u001b[0m\u001b[0;32m    385\u001b[0m         \u001b[1;32mif\u001b[0m \u001b[1;32mnot\u001b[0m \u001b[0misinstance\u001b[0m\u001b[1;33m(\u001b[0m\u001b[0mbatch_outs\u001b[0m\u001b[1;33m,\u001b[0m \u001b[0mlist\u001b[0m\u001b[1;33m)\u001b[0m\u001b[1;33m:\u001b[0m\u001b[1;33m\u001b[0m\u001b[1;33m\u001b[0m\u001b[0m\n\u001b[0;32m    386\u001b[0m           \u001b[0mbatch_outs\u001b[0m \u001b[1;33m=\u001b[0m \u001b[1;33m[\u001b[0m\u001b[0mbatch_outs\u001b[0m\u001b[1;33m]\u001b[0m\u001b[1;33m\u001b[0m\u001b[1;33m\u001b[0m\u001b[0m\n",
      "\u001b[1;32mc:\\users\\admin200918\\appdata\\local\\programs\\python\\python37\\lib\\site-packages\\tensorflow\\python\\keras\\backend.py\u001b[0m in \u001b[0;36m__call__\u001b[1;34m(self, inputs)\u001b[0m\n\u001b[0;32m   3955\u001b[0m \u001b[1;33m\u001b[0m\u001b[0m\n\u001b[0;32m   3956\u001b[0m     fetched = self._callable_fn(*array_vals,\n\u001b[1;32m-> 3957\u001b[1;33m                                 run_metadata=self.run_metadata)\n\u001b[0m\u001b[0;32m   3958\u001b[0m     \u001b[0mself\u001b[0m\u001b[1;33m.\u001b[0m\u001b[0m_call_fetch_callbacks\u001b[0m\u001b[1;33m(\u001b[0m\u001b[0mfetched\u001b[0m\u001b[1;33m[\u001b[0m\u001b[1;33m-\u001b[0m\u001b[0mlen\u001b[0m\u001b[1;33m(\u001b[0m\u001b[0mself\u001b[0m\u001b[1;33m.\u001b[0m\u001b[0m_fetches\u001b[0m\u001b[1;33m)\u001b[0m\u001b[1;33m:\u001b[0m\u001b[1;33m]\u001b[0m\u001b[1;33m)\u001b[0m\u001b[1;33m\u001b[0m\u001b[1;33m\u001b[0m\u001b[0m\n\u001b[0;32m   3959\u001b[0m     output_structure = nest.pack_sequence_as(\n",
      "\u001b[1;32mc:\\users\\admin200918\\appdata\\local\\programs\\python\\python37\\lib\\site-packages\\tensorflow\\python\\client\\session.py\u001b[0m in \u001b[0;36m__call__\u001b[1;34m(self, *args, **kwargs)\u001b[0m\n\u001b[0;32m   1480\u001b[0m         ret = tf_session.TF_SessionRunCallable(self._session._session,\n\u001b[0;32m   1481\u001b[0m                                                \u001b[0mself\u001b[0m\u001b[1;33m.\u001b[0m\u001b[0m_handle\u001b[0m\u001b[1;33m,\u001b[0m \u001b[0margs\u001b[0m\u001b[1;33m,\u001b[0m\u001b[1;33m\u001b[0m\u001b[1;33m\u001b[0m\u001b[0m\n\u001b[1;32m-> 1482\u001b[1;33m                                                run_metadata_ptr)\n\u001b[0m\u001b[0;32m   1483\u001b[0m         \u001b[1;32mif\u001b[0m \u001b[0mrun_metadata\u001b[0m\u001b[1;33m:\u001b[0m\u001b[1;33m\u001b[0m\u001b[1;33m\u001b[0m\u001b[0m\n\u001b[0;32m   1484\u001b[0m           \u001b[0mproto_data\u001b[0m \u001b[1;33m=\u001b[0m \u001b[0mtf_session\u001b[0m\u001b[1;33m.\u001b[0m\u001b[0mTF_GetBuffer\u001b[0m\u001b[1;33m(\u001b[0m\u001b[0mrun_metadata_ptr\u001b[0m\u001b[1;33m)\u001b[0m\u001b[1;33m\u001b[0m\u001b[1;33m\u001b[0m\u001b[0m\n",
      "\u001b[1;31mKeyboardInterrupt\u001b[0m: "
     ]
    }
   ],
   "source": [
    "model.fit(X, y, epochs=10, batch_size=32, validation_split = .2)"
   ]
  },
  {
   "cell_type": "code",
   "execution_count": 67,
   "metadata": {},
   "outputs": [],
   "source": [
    "opt = keras.optimizers.Adam(learning_rate=0.000001)\n",
    "\n",
    "model = Sequential()\n",
    "model.add(Dense(1000, activation='relu', input_shape = (103,) ))\n",
    "model.add(Dense(1, activation='sigmoid'))\n",
    "\n",
    "model.compile(optimizer=opt, loss='binary_crossentropy', metrics=['accuracy'])"
   ]
  },
  {
   "cell_type": "code",
   "execution_count": 68,
   "metadata": {
    "scrolled": true
   },
   "outputs": [
    {
     "name": "stdout",
     "output_type": "stream",
     "text": [
      "Train on 97928 samples, validate on 24482 samples\n",
      "Epoch 1/10\n",
      "97928/97928 [==============================] - 17s 174us/sample - loss: 140.2561 - accuracy: 0.4630 - val_loss: 15.7919 - val_accuracy: 0.5411\n",
      "Epoch 2/10\n",
      "97928/97928 [==============================] - 15s 158us/sample - loss: 10.4193 - accuracy: 0.5651 - val_loss: 6.6900 - val_accuracy: 0.5977\n",
      "Epoch 3/10\n",
      "97928/97928 [==============================] - 14s 138us/sample - loss: 4.3361 - accuracy: 0.6230 - val_loss: 2.7391 - val_accuracy: 0.6338\n",
      "Epoch 4/10\n",
      "97928/97928 [==============================] - 17s 177us/sample - loss: 1.9236 - accuracy: 0.6613 - val_loss: 1.5484 - val_accuracy: 0.6698\n",
      "Epoch 5/10\n",
      "97928/97928 [==============================] - 15s 156us/sample - loss: 1.2924 - accuracy: 0.6886 - val_loss: 1.1863 - val_accuracy: 0.6841\n",
      "Epoch 6/10\n",
      "97928/97928 [==============================] - 16s 160us/sample - loss: 1.0581 - accuracy: 0.6979 - val_loss: 0.9764 - val_accuracy: 0.6890\n",
      "Epoch 7/10\n",
      "97928/97928 [==============================] - 17s 175us/sample - loss: 0.9081 - accuracy: 0.7008 - val_loss: 0.8470 - val_accuracy: 0.6936\n",
      "Epoch 8/10\n",
      "97928/97928 [==============================] - 18s 187us/sample - loss: 0.8061 - accuracy: 0.7021 - val_loss: 0.7796 - val_accuracy: 0.6987\n",
      "Epoch 9/10\n",
      "97928/97928 [==============================] - 18s 183us/sample - loss: 0.7394 - accuracy: 0.7044 - val_loss: 0.7255 - val_accuracy: 0.7058\n",
      "Epoch 10/10\n",
      "97928/97928 [==============================] - 17s 170us/sample - loss: 0.6934 - accuracy: 0.7094 - val_loss: 0.6962 - val_accuracy: 0.7021\n"
     ]
    },
    {
     "data": {
      "text/plain": [
       "<tensorflow.python.keras.callbacks.History at 0x185b2bc9a08>"
      ]
     },
     "execution_count": 68,
     "metadata": {},
     "output_type": "execute_result"
    }
   ],
   "source": [
    "model.fit(X, y, epochs=10, batch_size=32, validation_split = .2)"
   ]
  },
  {
   "cell_type": "code",
   "execution_count": 72,
   "metadata": {},
   "outputs": [],
   "source": [
    "opt = keras.optimizers.Adam(learning_rate=0.00001)\n",
    "reduce_lr = ReduceLROnPlateau(monitor='loss', factor=0.2,\n",
    "                              patience=5, min_lr=0.00000001)\n",
    "\n",
    "model = Sequential()\n",
    "model.add(Dense(1000, activation='relu', input_shape = (103,) ))\n",
    "model.add(Dense(1, activation='sigmoid'))\n",
    "\n",
    "model.compile(optimizer=opt, loss='binary_crossentropy', metrics=['accuracy'])"
   ]
  },
  {
   "cell_type": "code",
   "execution_count": 73,
   "metadata": {},
   "outputs": [
    {
     "name": "stdout",
     "output_type": "stream",
     "text": [
      "Train on 97928 samples, validate on 24482 samples\n",
      "Epoch 1/100\n",
      "97928/97928 [==============================] - 16s 168us/sample - loss: 8.1483 - accuracy: 0.6707 - val_loss: 0.8116 - val_accuracy: 0.6861\n",
      "Epoch 2/100\n",
      "97928/97928 [==============================] - 15s 154us/sample - loss: 0.8606 - accuracy: 0.7030 - val_loss: 0.9950 - val_accuracy: 0.7006\n",
      "Epoch 3/100\n",
      "97928/97928 [==============================] - 15s 153us/sample - loss: 0.8008 - accuracy: 0.7078 - val_loss: 0.8541 - val_accuracy: 0.6682\n",
      "Epoch 4/100\n",
      "97928/97928 [==============================] - 17s 174us/sample - loss: 0.7949 - accuracy: 0.7088 - val_loss: 0.6128 - val_accuracy: 0.7169\n",
      "Epoch 5/100\n",
      "97928/97928 [==============================] - 17s 169us/sample - loss: 0.7555 - accuracy: 0.7130 - val_loss: 0.6925 - val_accuracy: 0.7207\n",
      "Epoch 6/100\n",
      "97928/97928 [==============================] - 17s 175us/sample - loss: 0.7459 - accuracy: 0.7141 - val_loss: 0.6390 - val_accuracy: 0.7215\n",
      "Epoch 7/100\n",
      "97928/97928 [==============================] - 17s 177us/sample - loss: 0.7657 - accuracy: 0.7129 - val_loss: 0.6047 - val_accuracy: 0.7144\n",
      "Epoch 8/100\n",
      "97928/97928 [==============================] - 18s 186us/sample - loss: 0.7163 - accuracy: 0.7189 - val_loss: 0.5776 - val_accuracy: 0.7164\n",
      "Epoch 9/100\n",
      "97928/97928 [==============================] - 18s 184us/sample - loss: 0.7394 - accuracy: 0.7180 - val_loss: 0.5771 - val_accuracy: 0.7226\n",
      "Epoch 10/100\n",
      "97928/97928 [==============================] - 18s 186us/sample - loss: 0.7291 - accuracy: 0.7175 - val_loss: 0.5999 - val_accuracy: 0.7255\n",
      "Epoch 11/100\n",
      "97928/97928 [==============================] - 19s 195us/sample - loss: 0.7230 - accuracy: 0.7204 - val_loss: 1.0360 - val_accuracy: 0.6368\n",
      "Epoch 12/100\n",
      "97928/97928 [==============================] - 18s 181us/sample - loss: 0.7094 - accuracy: 0.7212 - val_loss: 0.6478 - val_accuracy: 0.7142\n",
      "Epoch 13/100\n",
      "97928/97928 [==============================] - 19s 191us/sample - loss: 0.6936 - accuracy: 0.7224 - val_loss: 0.9172 - val_accuracy: 0.6979\n",
      "Epoch 14/100\n",
      "97928/97928 [==============================] - 19s 194us/sample - loss: 0.6986 - accuracy: 0.7223 - val_loss: 0.9057 - val_accuracy: 0.6962\n",
      "Epoch 15/100\n",
      "97928/97928 [==============================] - 19s 191us/sample - loss: 0.7152 - accuracy: 0.7226 - val_loss: 0.5543 - val_accuracy: 0.7211\n",
      "Epoch 16/100\n",
      "97928/97928 [==============================] - 19s 193us/sample - loss: 0.6983 - accuracy: 0.7232 - val_loss: 0.6362 - val_accuracy: 0.7143\n",
      "Epoch 17/100\n",
      "97928/97928 [==============================] - 19s 193us/sample - loss: 0.7252 - accuracy: 0.7222 - val_loss: 0.9541 - val_accuracy: 0.6825\n",
      "Epoch 18/100\n",
      "97928/97928 [==============================] - 19s 197us/sample - loss: 0.6962 - accuracy: 0.7231 - val_loss: 0.6295 - val_accuracy: 0.7066\n",
      "Epoch 19/100\n",
      "97928/97928 [==============================] - 18s 185us/sample - loss: 0.5163 - accuracy: 0.7477 - val_loss: 0.6284 - val_accuracy: 0.7079\n",
      "Epoch 20/100\n",
      "97928/97928 [==============================] - 19s 189us/sample - loss: 0.5142 - accuracy: 0.7449 - val_loss: 0.5490 - val_accuracy: 0.7162\n",
      "Epoch 21/100\n",
      "97928/97928 [==============================] - 19s 194us/sample - loss: 0.5129 - accuracy: 0.7457 - val_loss: 0.5426 - val_accuracy: 0.7147\n",
      "Epoch 22/100\n",
      "97928/97928 [==============================] - 19s 194us/sample - loss: 0.5145 - accuracy: 0.7452 - val_loss: 0.5305 - val_accuracy: 0.7225\n",
      "Epoch 23/100\n",
      "97928/97928 [==============================] - 19s 191us/sample - loss: 0.5078 - accuracy: 0.7473 - val_loss: 0.5522 - val_accuracy: 0.7167\n",
      "Epoch 24/100\n",
      "97928/97928 [==============================] - 19s 193us/sample - loss: 0.5117 - accuracy: 0.7454 - val_loss: 0.5381 - val_accuracy: 0.7207\n",
      "Epoch 25/100\n",
      "97928/97928 [==============================] - 18s 182us/sample - loss: 0.5113 - accuracy: 0.7452 - val_loss: 0.5669 - val_accuracy: 0.7187\n",
      "Epoch 26/100\n",
      "97928/97928 [==============================] - 18s 188us/sample - loss: 0.5090 - accuracy: 0.7469 - val_loss: 0.5202 - val_accuracy: 0.7289\n",
      "Epoch 27/100\n",
      "97928/97928 [==============================] - 19s 194us/sample - loss: 0.5054 - accuracy: 0.7477 - val_loss: 0.5194 - val_accuracy: 0.7309\n",
      "Epoch 28/100\n",
      "97928/97928 [==============================] - 18s 183us/sample - loss: 0.5092 - accuracy: 0.7453 - val_loss: 0.5364 - val_accuracy: 0.7149\n",
      "Epoch 29/100\n",
      "97928/97928 [==============================] - 13s 133us/sample - loss: 0.5086 - accuracy: 0.7462 - val_loss: 0.5305 - val_accuracy: 0.7160\n",
      "Epoch 30/100\n",
      "97928/97928 [==============================] - 14s 141us/sample - loss: 0.5053 - accuracy: 0.7482 - val_loss: 0.5686 - val_accuracy: 0.7065\n",
      "Epoch 31/100\n",
      "97928/97928 [==============================] - 16s 167us/sample - loss: 0.5097 - accuracy: 0.7471 - val_loss: 0.5451 - val_accuracy: 0.7266\n",
      "Epoch 32/100\n",
      "97928/97928 [==============================] - 15s 148us/sample - loss: 0.5090 - accuracy: 0.7468 - val_loss: 0.5169 - val_accuracy: 0.7265\n",
      "Epoch 33/100\n",
      "97928/97928 [==============================] - 15s 157us/sample - loss: 0.4738 - accuracy: 0.7576 - val_loss: 0.5109 - val_accuracy: 0.7310\n",
      "Epoch 34/100\n",
      "97928/97928 [==============================] - 15s 153us/sample - loss: 0.4740 - accuracy: 0.7565 - val_loss: 0.5082 - val_accuracy: 0.7352\n",
      "Epoch 35/100\n",
      "97928/97928 [==============================] - 18s 180us/sample - loss: 0.4743 - accuracy: 0.7554 - val_loss: 0.5086 - val_accuracy: 0.7320\n",
      "Epoch 36/100\n",
      "97928/97928 [==============================] - 17s 174us/sample - loss: 0.4733 - accuracy: 0.7564 - val_loss: 0.5140 - val_accuracy: 0.7303\n",
      "Epoch 37/100\n",
      "97928/97928 [==============================] - 17s 178us/sample - loss: 0.4739 - accuracy: 0.7554 - val_loss: 0.5074 - val_accuracy: 0.7317\n",
      "Epoch 38/100\n",
      "97928/97928 [==============================] - 17s 178us/sample - loss: 0.4737 - accuracy: 0.7562 - val_loss: 0.5083 - val_accuracy: 0.7297\n",
      "Epoch 39/100\n",
      "97928/97928 [==============================] - 18s 179us/sample - loss: 0.4743 - accuracy: 0.7572 - val_loss: 0.5066 - val_accuracy: 0.7333\n",
      "Epoch 40/100\n",
      "97928/97928 [==============================] - 17s 170us/sample - loss: 0.4735 - accuracy: 0.7558 - val_loss: 0.5088 - val_accuracy: 0.7324\n",
      "Epoch 41/100\n",
      "97928/97928 [==============================] - 17s 173us/sample - loss: 0.4732 - accuracy: 0.7570 - val_loss: 0.5069 - val_accuracy: 0.7311\n",
      "Epoch 42/100\n",
      "97928/97928 [==============================] - 17s 179us/sample - loss: 0.4734 - accuracy: 0.7570 - val_loss: 0.5083 - val_accuracy: 0.7284\n",
      "Epoch 43/100\n",
      "97928/97928 [==============================] - 17s 176us/sample - loss: 0.4739 - accuracy: 0.7558 - val_loss: 0.5060 - val_accuracy: 0.7321\n",
      "Epoch 44/100\n",
      "97928/97928 [==============================] - 17s 178us/sample - loss: 0.4736 - accuracy: 0.7564 - val_loss: 0.5222 - val_accuracy: 0.7190\n",
      "Epoch 45/100\n",
      "97928/97928 [==============================] - 17s 178us/sample - loss: 0.4725 - accuracy: 0.7576 - val_loss: 0.5223 - val_accuracy: 0.7267\n",
      "Epoch 46/100\n",
      "97928/97928 [==============================] - 18s 183us/sample - loss: 0.4731 - accuracy: 0.7567 - val_loss: 0.5100 - val_accuracy: 0.7310\n",
      "Epoch 47/100\n",
      "97928/97928 [==============================] - 17s 175us/sample - loss: 0.4724 - accuracy: 0.7564 - val_loss: 0.5103 - val_accuracy: 0.7251\n",
      "Epoch 48/100\n",
      "97928/97928 [==============================] - 17s 177us/sample - loss: 0.4725 - accuracy: 0.7564 - val_loss: 0.5063 - val_accuracy: 0.7323\n",
      "Epoch 49/100\n",
      "97928/97928 [==============================] - 17s 178us/sample - loss: 0.4728 - accuracy: 0.7569 - val_loss: 0.5145 - val_accuracy: 0.7278\n",
      "Epoch 50/100\n",
      "97928/97928 [==============================] - 18s 179us/sample - loss: 0.4735 - accuracy: 0.7573 - val_loss: 0.5454 - val_accuracy: 0.7191\n",
      "Epoch 51/100\n",
      "97928/97928 [==============================] - 17s 176us/sample - loss: 0.4662 - accuracy: 0.7602 - val_loss: 0.5062 - val_accuracy: 0.7321\n",
      "Epoch 52/100\n",
      "97928/97928 [==============================] - 17s 175us/sample - loss: 0.4661 - accuracy: 0.7598 - val_loss: 0.5058 - val_accuracy: 0.7345\n",
      "Epoch 53/100\n",
      "97928/97928 [==============================] - 17s 176us/sample - loss: 0.4659 - accuracy: 0.7595 - val_loss: 0.5072 - val_accuracy: 0.7300\n",
      "Epoch 54/100\n"
     ]
    },
    {
     "name": "stdout",
     "output_type": "stream",
     "text": [
      "44704/97928 [============>.................] - ETA: 8s - loss: 0.4665 - accuracy: 0.7578"
     ]
    },
    {
     "ename": "KeyboardInterrupt",
     "evalue": "",
     "output_type": "error",
     "traceback": [
      "\u001b[1;31m---------------------------------------------------------------------------\u001b[0m",
      "\u001b[1;31mKeyboardInterrupt\u001b[0m                         Traceback (most recent call last)",
      "\u001b[1;32m<ipython-input-73-2b37336a40b0>\u001b[0m in \u001b[0;36m<module>\u001b[1;34m\u001b[0m\n\u001b[1;32m----> 1\u001b[1;33m \u001b[0mmodel\u001b[0m\u001b[1;33m.\u001b[0m\u001b[0mfit\u001b[0m\u001b[1;33m(\u001b[0m\u001b[0mX\u001b[0m\u001b[1;33m,\u001b[0m \u001b[0my\u001b[0m\u001b[1;33m,\u001b[0m \u001b[0mepochs\u001b[0m\u001b[1;33m=\u001b[0m\u001b[1;36m100\u001b[0m\u001b[1;33m,\u001b[0m \u001b[0mbatch_size\u001b[0m\u001b[1;33m=\u001b[0m\u001b[1;36m32\u001b[0m\u001b[1;33m,\u001b[0m \u001b[0mvalidation_split\u001b[0m \u001b[1;33m=\u001b[0m \u001b[1;36m.2\u001b[0m\u001b[1;33m,\u001b[0m \u001b[0mcallbacks\u001b[0m\u001b[1;33m=\u001b[0m\u001b[1;33m[\u001b[0m\u001b[0mreduce_lr\u001b[0m\u001b[1;33m]\u001b[0m\u001b[1;33m)\u001b[0m\u001b[1;33m\u001b[0m\u001b[1;33m\u001b[0m\u001b[0m\n\u001b[0m",
      "\u001b[1;32mc:\\users\\admin200918\\appdata\\local\\programs\\python\\python37\\lib\\site-packages\\tensorflow\\python\\keras\\engine\\training_v1.py\u001b[0m in \u001b[0;36mfit\u001b[1;34m(self, x, y, batch_size, epochs, verbose, callbacks, validation_split, validation_data, shuffle, class_weight, sample_weight, initial_epoch, steps_per_epoch, validation_steps, validation_freq, max_queue_size, workers, use_multiprocessing, **kwargs)\u001b[0m\n\u001b[0;32m    806\u001b[0m         \u001b[0mmax_queue_size\u001b[0m\u001b[1;33m=\u001b[0m\u001b[0mmax_queue_size\u001b[0m\u001b[1;33m,\u001b[0m\u001b[1;33m\u001b[0m\u001b[1;33m\u001b[0m\u001b[0m\n\u001b[0;32m    807\u001b[0m         \u001b[0mworkers\u001b[0m\u001b[1;33m=\u001b[0m\u001b[0mworkers\u001b[0m\u001b[1;33m,\u001b[0m\u001b[1;33m\u001b[0m\u001b[1;33m\u001b[0m\u001b[0m\n\u001b[1;32m--> 808\u001b[1;33m         use_multiprocessing=use_multiprocessing)\n\u001b[0m\u001b[0;32m    809\u001b[0m \u001b[1;33m\u001b[0m\u001b[0m\n\u001b[0;32m    810\u001b[0m   def evaluate(self,\n",
      "\u001b[1;32mc:\\users\\admin200918\\appdata\\local\\programs\\python\\python37\\lib\\site-packages\\tensorflow\\python\\keras\\engine\\training_arrays_v1.py\u001b[0m in \u001b[0;36mfit\u001b[1;34m(self, model, x, y, batch_size, epochs, verbose, callbacks, validation_split, validation_data, shuffle, class_weight, sample_weight, initial_epoch, steps_per_epoch, validation_steps, validation_freq, **kwargs)\u001b[0m\n\u001b[0;32m    662\u001b[0m         \u001b[0mvalidation_steps\u001b[0m\u001b[1;33m=\u001b[0m\u001b[0mvalidation_steps\u001b[0m\u001b[1;33m,\u001b[0m\u001b[1;33m\u001b[0m\u001b[1;33m\u001b[0m\u001b[0m\n\u001b[0;32m    663\u001b[0m         \u001b[0mvalidation_freq\u001b[0m\u001b[1;33m=\u001b[0m\u001b[0mvalidation_freq\u001b[0m\u001b[1;33m,\u001b[0m\u001b[1;33m\u001b[0m\u001b[1;33m\u001b[0m\u001b[0m\n\u001b[1;32m--> 664\u001b[1;33m         steps_name='steps_per_epoch')\n\u001b[0m\u001b[0;32m    665\u001b[0m \u001b[1;33m\u001b[0m\u001b[0m\n\u001b[0;32m    666\u001b[0m   def evaluate(self,\n",
      "\u001b[1;32mc:\\users\\admin200918\\appdata\\local\\programs\\python\\python37\\lib\\site-packages\\tensorflow\\python\\keras\\engine\\training_arrays_v1.py\u001b[0m in \u001b[0;36mmodel_iteration\u001b[1;34m(model, inputs, targets, sample_weights, batch_size, epochs, verbose, callbacks, val_inputs, val_targets, val_sample_weights, shuffle, initial_epoch, steps_per_epoch, validation_steps, validation_freq, mode, validation_in_fit, prepared_feed_values_from_dataset, steps_name, **kwargs)\u001b[0m\n\u001b[0;32m    382\u001b[0m \u001b[1;33m\u001b[0m\u001b[0m\n\u001b[0;32m    383\u001b[0m         \u001b[1;31m# Get outputs.\u001b[0m\u001b[1;33m\u001b[0m\u001b[1;33m\u001b[0m\u001b[1;33m\u001b[0m\u001b[0m\n\u001b[1;32m--> 384\u001b[1;33m         \u001b[0mbatch_outs\u001b[0m \u001b[1;33m=\u001b[0m \u001b[0mf\u001b[0m\u001b[1;33m(\u001b[0m\u001b[0mins_batch\u001b[0m\u001b[1;33m)\u001b[0m\u001b[1;33m\u001b[0m\u001b[1;33m\u001b[0m\u001b[0m\n\u001b[0m\u001b[0;32m    385\u001b[0m         \u001b[1;32mif\u001b[0m \u001b[1;32mnot\u001b[0m \u001b[0misinstance\u001b[0m\u001b[1;33m(\u001b[0m\u001b[0mbatch_outs\u001b[0m\u001b[1;33m,\u001b[0m \u001b[0mlist\u001b[0m\u001b[1;33m)\u001b[0m\u001b[1;33m:\u001b[0m\u001b[1;33m\u001b[0m\u001b[1;33m\u001b[0m\u001b[0m\n\u001b[0;32m    386\u001b[0m           \u001b[0mbatch_outs\u001b[0m \u001b[1;33m=\u001b[0m \u001b[1;33m[\u001b[0m\u001b[0mbatch_outs\u001b[0m\u001b[1;33m]\u001b[0m\u001b[1;33m\u001b[0m\u001b[1;33m\u001b[0m\u001b[0m\n",
      "\u001b[1;32mc:\\users\\admin200918\\appdata\\local\\programs\\python\\python37\\lib\\site-packages\\tensorflow\\python\\keras\\backend.py\u001b[0m in \u001b[0;36m__call__\u001b[1;34m(self, inputs)\u001b[0m\n\u001b[0;32m   3955\u001b[0m \u001b[1;33m\u001b[0m\u001b[0m\n\u001b[0;32m   3956\u001b[0m     fetched = self._callable_fn(*array_vals,\n\u001b[1;32m-> 3957\u001b[1;33m                                 run_metadata=self.run_metadata)\n\u001b[0m\u001b[0;32m   3958\u001b[0m     \u001b[0mself\u001b[0m\u001b[1;33m.\u001b[0m\u001b[0m_call_fetch_callbacks\u001b[0m\u001b[1;33m(\u001b[0m\u001b[0mfetched\u001b[0m\u001b[1;33m[\u001b[0m\u001b[1;33m-\u001b[0m\u001b[0mlen\u001b[0m\u001b[1;33m(\u001b[0m\u001b[0mself\u001b[0m\u001b[1;33m.\u001b[0m\u001b[0m_fetches\u001b[0m\u001b[1;33m)\u001b[0m\u001b[1;33m:\u001b[0m\u001b[1;33m]\u001b[0m\u001b[1;33m)\u001b[0m\u001b[1;33m\u001b[0m\u001b[1;33m\u001b[0m\u001b[0m\n\u001b[0;32m   3959\u001b[0m     output_structure = nest.pack_sequence_as(\n",
      "\u001b[1;32mc:\\users\\admin200918\\appdata\\local\\programs\\python\\python37\\lib\\site-packages\\tensorflow\\python\\client\\session.py\u001b[0m in \u001b[0;36m__call__\u001b[1;34m(self, *args, **kwargs)\u001b[0m\n\u001b[0;32m   1480\u001b[0m         ret = tf_session.TF_SessionRunCallable(self._session._session,\n\u001b[0;32m   1481\u001b[0m                                                \u001b[0mself\u001b[0m\u001b[1;33m.\u001b[0m\u001b[0m_handle\u001b[0m\u001b[1;33m,\u001b[0m \u001b[0margs\u001b[0m\u001b[1;33m,\u001b[0m\u001b[1;33m\u001b[0m\u001b[1;33m\u001b[0m\u001b[0m\n\u001b[1;32m-> 1482\u001b[1;33m                                                run_metadata_ptr)\n\u001b[0m\u001b[0;32m   1483\u001b[0m         \u001b[1;32mif\u001b[0m \u001b[0mrun_metadata\u001b[0m\u001b[1;33m:\u001b[0m\u001b[1;33m\u001b[0m\u001b[1;33m\u001b[0m\u001b[0m\n\u001b[0;32m   1484\u001b[0m           \u001b[0mproto_data\u001b[0m \u001b[1;33m=\u001b[0m \u001b[0mtf_session\u001b[0m\u001b[1;33m.\u001b[0m\u001b[0mTF_GetBuffer\u001b[0m\u001b[1;33m(\u001b[0m\u001b[0mrun_metadata_ptr\u001b[0m\u001b[1;33m)\u001b[0m\u001b[1;33m\u001b[0m\u001b[1;33m\u001b[0m\u001b[0m\n",
      "\u001b[1;31mKeyboardInterrupt\u001b[0m: "
     ]
    }
   ],
   "source": [
    "model.fit(X, y, epochs=100, batch_size=32, validation_split = .2, callbacks=[reduce_lr])"
   ]
  },
  {
   "cell_type": "code",
   "execution_count": 74,
   "metadata": {},
   "outputs": [],
   "source": [
    "opt = keras.optimizers.Adam(learning_rate=0.00001)\n",
    "reduce_lr = ReduceLROnPlateau(monitor='loss', factor=0.2,verbose = 1,\n",
    "                              patience=5, min_lr=0.00000001)\n",
    "\n",
    "model = Sequential()\n",
    "model.add(Dense(1024, activation='relu', input_shape = (103,) ))\n",
    "model.add(Dense(512, activation='relu'))\n",
    "model.add(Dense(256, activation='relu'))\n",
    "model.add(Dense(128, activation='relu'))\n",
    "model.add(Dense(1, activation='sigmoid'))\n",
    "\n",
    "model.compile(optimizer=opt, loss='binary_crossentropy', metrics=['accuracy'])"
   ]
  },
  {
   "cell_type": "code",
   "execution_count": 75,
   "metadata": {},
   "outputs": [
    {
     "name": "stdout",
     "output_type": "stream",
     "text": [
      "Train on 97928 samples, validate on 24482 samples\n",
      "Epoch 1/100\n",
      "97928/97928 [==============================] - 40s 412us/sample - loss: 2.4201 - accuracy: 0.6598 - val_loss: 1.1551 - val_accuracy: 0.7039\n",
      "Epoch 2/100\n",
      "97928/97928 [==============================] - 40s 411us/sample - loss: 1.9960 - accuracy: 0.6786 - val_loss: 2.5071 - val_accuracy: 0.6245\n",
      "Epoch 3/100\n",
      "97928/97928 [==============================] - 37s 376us/sample - loss: 1.9421 - accuracy: 0.6849 - val_loss: 2.5542 - val_accuracy: 0.6524\n",
      "Epoch 4/100\n",
      "97928/97928 [==============================] - 36s 369us/sample - loss: 1.7253 - accuracy: 0.6903 - val_loss: 2.8497 - val_accuracy: 0.6076\n",
      "Epoch 5/100\n",
      "97928/97928 [==============================] - 43s 441us/sample - loss: 1.6815 - accuracy: 0.6887 - val_loss: 1.9307 - val_accuracy: 0.6448\n",
      "Epoch 6/100\n",
      "97928/97928 [==============================] - 40s 407us/sample - loss: 1.5338 - accuracy: 0.6934 - val_loss: 1.1896 - val_accuracy: 0.7012\n",
      "Epoch 7/100\n",
      "97928/97928 [==============================] - 37s 375us/sample - loss: 1.4671 - accuracy: 0.6946 - val_loss: 1.0660 - val_accuracy: 0.7011\n",
      "Epoch 8/100\n",
      "97928/97928 [==============================] - 42s 432us/sample - loss: 1.3874 - accuracy: 0.6953 - val_loss: 2.0046 - val_accuracy: 0.6908\n",
      "Epoch 9/100\n",
      "97928/97928 [==============================] - 38s 387us/sample - loss: 1.3387 - accuracy: 0.6991 - val_loss: 1.2755 - val_accuracy: 0.6807\n",
      "Epoch 10/100\n",
      "97928/97928 [==============================] - 38s 388us/sample - loss: 1.2720 - accuracy: 0.6972 - val_loss: 0.8576 - val_accuracy: 0.6952\n",
      "Epoch 11/100\n",
      "97928/97928 [==============================] - 37s 379us/sample - loss: 1.2487 - accuracy: 0.6970 - val_loss: 0.8981 - val_accuracy: 0.6830\n",
      "Epoch 12/100\n",
      "80320/97928 [=======================>......] - ETA: 6s - loss: 1.1405 - accuracy: 0.7007"
     ]
    },
    {
     "ename": "KeyboardInterrupt",
     "evalue": "",
     "output_type": "error",
     "traceback": [
      "\u001b[1;31m---------------------------------------------------------------------------\u001b[0m",
      "\u001b[1;31mKeyboardInterrupt\u001b[0m                         Traceback (most recent call last)",
      "\u001b[1;32m<ipython-input-75-2b37336a40b0>\u001b[0m in \u001b[0;36m<module>\u001b[1;34m\u001b[0m\n\u001b[1;32m----> 1\u001b[1;33m \u001b[0mmodel\u001b[0m\u001b[1;33m.\u001b[0m\u001b[0mfit\u001b[0m\u001b[1;33m(\u001b[0m\u001b[0mX\u001b[0m\u001b[1;33m,\u001b[0m \u001b[0my\u001b[0m\u001b[1;33m,\u001b[0m \u001b[0mepochs\u001b[0m\u001b[1;33m=\u001b[0m\u001b[1;36m100\u001b[0m\u001b[1;33m,\u001b[0m \u001b[0mbatch_size\u001b[0m\u001b[1;33m=\u001b[0m\u001b[1;36m32\u001b[0m\u001b[1;33m,\u001b[0m \u001b[0mvalidation_split\u001b[0m \u001b[1;33m=\u001b[0m \u001b[1;36m.2\u001b[0m\u001b[1;33m,\u001b[0m \u001b[0mcallbacks\u001b[0m\u001b[1;33m=\u001b[0m\u001b[1;33m[\u001b[0m\u001b[0mreduce_lr\u001b[0m\u001b[1;33m]\u001b[0m\u001b[1;33m)\u001b[0m\u001b[1;33m\u001b[0m\u001b[1;33m\u001b[0m\u001b[0m\n\u001b[0m",
      "\u001b[1;32mc:\\users\\admin200918\\appdata\\local\\programs\\python\\python37\\lib\\site-packages\\tensorflow\\python\\keras\\engine\\training_v1.py\u001b[0m in \u001b[0;36mfit\u001b[1;34m(self, x, y, batch_size, epochs, verbose, callbacks, validation_split, validation_data, shuffle, class_weight, sample_weight, initial_epoch, steps_per_epoch, validation_steps, validation_freq, max_queue_size, workers, use_multiprocessing, **kwargs)\u001b[0m\n\u001b[0;32m    806\u001b[0m         \u001b[0mmax_queue_size\u001b[0m\u001b[1;33m=\u001b[0m\u001b[0mmax_queue_size\u001b[0m\u001b[1;33m,\u001b[0m\u001b[1;33m\u001b[0m\u001b[1;33m\u001b[0m\u001b[0m\n\u001b[0;32m    807\u001b[0m         \u001b[0mworkers\u001b[0m\u001b[1;33m=\u001b[0m\u001b[0mworkers\u001b[0m\u001b[1;33m,\u001b[0m\u001b[1;33m\u001b[0m\u001b[1;33m\u001b[0m\u001b[0m\n\u001b[1;32m--> 808\u001b[1;33m         use_multiprocessing=use_multiprocessing)\n\u001b[0m\u001b[0;32m    809\u001b[0m \u001b[1;33m\u001b[0m\u001b[0m\n\u001b[0;32m    810\u001b[0m   def evaluate(self,\n",
      "\u001b[1;32mc:\\users\\admin200918\\appdata\\local\\programs\\python\\python37\\lib\\site-packages\\tensorflow\\python\\keras\\engine\\training_arrays_v1.py\u001b[0m in \u001b[0;36mfit\u001b[1;34m(self, model, x, y, batch_size, epochs, verbose, callbacks, validation_split, validation_data, shuffle, class_weight, sample_weight, initial_epoch, steps_per_epoch, validation_steps, validation_freq, **kwargs)\u001b[0m\n\u001b[0;32m    662\u001b[0m         \u001b[0mvalidation_steps\u001b[0m\u001b[1;33m=\u001b[0m\u001b[0mvalidation_steps\u001b[0m\u001b[1;33m,\u001b[0m\u001b[1;33m\u001b[0m\u001b[1;33m\u001b[0m\u001b[0m\n\u001b[0;32m    663\u001b[0m         \u001b[0mvalidation_freq\u001b[0m\u001b[1;33m=\u001b[0m\u001b[0mvalidation_freq\u001b[0m\u001b[1;33m,\u001b[0m\u001b[1;33m\u001b[0m\u001b[1;33m\u001b[0m\u001b[0m\n\u001b[1;32m--> 664\u001b[1;33m         steps_name='steps_per_epoch')\n\u001b[0m\u001b[0;32m    665\u001b[0m \u001b[1;33m\u001b[0m\u001b[0m\n\u001b[0;32m    666\u001b[0m   def evaluate(self,\n",
      "\u001b[1;32mc:\\users\\admin200918\\appdata\\local\\programs\\python\\python37\\lib\\site-packages\\tensorflow\\python\\keras\\engine\\training_arrays_v1.py\u001b[0m in \u001b[0;36mmodel_iteration\u001b[1;34m(model, inputs, targets, sample_weights, batch_size, epochs, verbose, callbacks, val_inputs, val_targets, val_sample_weights, shuffle, initial_epoch, steps_per_epoch, validation_steps, validation_freq, mode, validation_in_fit, prepared_feed_values_from_dataset, steps_name, **kwargs)\u001b[0m\n\u001b[0;32m    382\u001b[0m \u001b[1;33m\u001b[0m\u001b[0m\n\u001b[0;32m    383\u001b[0m         \u001b[1;31m# Get outputs.\u001b[0m\u001b[1;33m\u001b[0m\u001b[1;33m\u001b[0m\u001b[1;33m\u001b[0m\u001b[0m\n\u001b[1;32m--> 384\u001b[1;33m         \u001b[0mbatch_outs\u001b[0m \u001b[1;33m=\u001b[0m \u001b[0mf\u001b[0m\u001b[1;33m(\u001b[0m\u001b[0mins_batch\u001b[0m\u001b[1;33m)\u001b[0m\u001b[1;33m\u001b[0m\u001b[1;33m\u001b[0m\u001b[0m\n\u001b[0m\u001b[0;32m    385\u001b[0m         \u001b[1;32mif\u001b[0m \u001b[1;32mnot\u001b[0m \u001b[0misinstance\u001b[0m\u001b[1;33m(\u001b[0m\u001b[0mbatch_outs\u001b[0m\u001b[1;33m,\u001b[0m \u001b[0mlist\u001b[0m\u001b[1;33m)\u001b[0m\u001b[1;33m:\u001b[0m\u001b[1;33m\u001b[0m\u001b[1;33m\u001b[0m\u001b[0m\n\u001b[0;32m    386\u001b[0m           \u001b[0mbatch_outs\u001b[0m \u001b[1;33m=\u001b[0m \u001b[1;33m[\u001b[0m\u001b[0mbatch_outs\u001b[0m\u001b[1;33m]\u001b[0m\u001b[1;33m\u001b[0m\u001b[1;33m\u001b[0m\u001b[0m\n",
      "\u001b[1;32mc:\\users\\admin200918\\appdata\\local\\programs\\python\\python37\\lib\\site-packages\\tensorflow\\python\\keras\\backend.py\u001b[0m in \u001b[0;36m__call__\u001b[1;34m(self, inputs)\u001b[0m\n\u001b[0;32m   3955\u001b[0m \u001b[1;33m\u001b[0m\u001b[0m\n\u001b[0;32m   3956\u001b[0m     fetched = self._callable_fn(*array_vals,\n\u001b[1;32m-> 3957\u001b[1;33m                                 run_metadata=self.run_metadata)\n\u001b[0m\u001b[0;32m   3958\u001b[0m     \u001b[0mself\u001b[0m\u001b[1;33m.\u001b[0m\u001b[0m_call_fetch_callbacks\u001b[0m\u001b[1;33m(\u001b[0m\u001b[0mfetched\u001b[0m\u001b[1;33m[\u001b[0m\u001b[1;33m-\u001b[0m\u001b[0mlen\u001b[0m\u001b[1;33m(\u001b[0m\u001b[0mself\u001b[0m\u001b[1;33m.\u001b[0m\u001b[0m_fetches\u001b[0m\u001b[1;33m)\u001b[0m\u001b[1;33m:\u001b[0m\u001b[1;33m]\u001b[0m\u001b[1;33m)\u001b[0m\u001b[1;33m\u001b[0m\u001b[1;33m\u001b[0m\u001b[0m\n\u001b[0;32m   3959\u001b[0m     output_structure = nest.pack_sequence_as(\n",
      "\u001b[1;32mc:\\users\\admin200918\\appdata\\local\\programs\\python\\python37\\lib\\site-packages\\tensorflow\\python\\client\\session.py\u001b[0m in \u001b[0;36m__call__\u001b[1;34m(self, *args, **kwargs)\u001b[0m\n\u001b[0;32m   1480\u001b[0m         ret = tf_session.TF_SessionRunCallable(self._session._session,\n\u001b[0;32m   1481\u001b[0m                                                \u001b[0mself\u001b[0m\u001b[1;33m.\u001b[0m\u001b[0m_handle\u001b[0m\u001b[1;33m,\u001b[0m \u001b[0margs\u001b[0m\u001b[1;33m,\u001b[0m\u001b[1;33m\u001b[0m\u001b[1;33m\u001b[0m\u001b[0m\n\u001b[1;32m-> 1482\u001b[1;33m                                                run_metadata_ptr)\n\u001b[0m\u001b[0;32m   1483\u001b[0m         \u001b[1;32mif\u001b[0m \u001b[0mrun_metadata\u001b[0m\u001b[1;33m:\u001b[0m\u001b[1;33m\u001b[0m\u001b[1;33m\u001b[0m\u001b[0m\n\u001b[0;32m   1484\u001b[0m           \u001b[0mproto_data\u001b[0m \u001b[1;33m=\u001b[0m \u001b[0mtf_session\u001b[0m\u001b[1;33m.\u001b[0m\u001b[0mTF_GetBuffer\u001b[0m\u001b[1;33m(\u001b[0m\u001b[0mrun_metadata_ptr\u001b[0m\u001b[1;33m)\u001b[0m\u001b[1;33m\u001b[0m\u001b[1;33m\u001b[0m\u001b[0m\n",
      "\u001b[1;31mKeyboardInterrupt\u001b[0m: "
     ]
    }
   ],
   "source": [
    "model.fit(X, y, epochs=100, batch_size=32, validation_split = .2, callbacks=[reduce_lr])"
   ]
  },
  {
   "cell_type": "code",
   "execution_count": 76,
   "metadata": {},
   "outputs": [],
   "source": [
    "opt = keras.optimizers.Adam(learning_rate=0.0001)\n",
    "reduce_lr = ReduceLROnPlateau(monitor='loss', factor=0.2,verbose = 1,\n",
    "                              patience=5, min_lr=0.00000001)\n",
    "\n",
    "model = Sequential()\n",
    "model.add(Dense(1024, activation='relu', input_shape = (103,) ))\n",
    "model.add(Dense(512, activation='relu'))\n",
    "model.add(Dense(256, activation='relu'))\n",
    "model.add(Dense(128, activation='relu'))\n",
    "model.add(Dense(1, activation='sigmoid'))\n",
    "\n",
    "model.compile(optimizer=opt, loss='binary_crossentropy', metrics=['accuracy'])"
   ]
  },
  {
   "cell_type": "code",
   "execution_count": 77,
   "metadata": {},
   "outputs": [
    {
     "name": "stdout",
     "output_type": "stream",
     "text": [
      "Train on 97928 samples, validate on 24482 samples\n",
      "Epoch 1/100\n",
      "97928/97928 [==============================] - 36s 366us/sample - loss: 4.1475 - accuracy: 0.6545 - val_loss: 1.6374 - val_accuracy: 0.6575\n",
      "Epoch 2/100\n",
      "97928/97928 [==============================] - 40s 408us/sample - loss: 1.0877 - accuracy: 0.6840 - val_loss: 0.6166 - val_accuracy: 0.7132\n",
      "Epoch 3/100\n",
      "97928/97928 [==============================] - 46s 473us/sample - loss: 0.6829 - accuracy: 0.6995 - val_loss: 0.5731 - val_accuracy: 0.6872\n",
      "Epoch 4/100\n",
      "97928/97928 [==============================] - 38s 393us/sample - loss: 0.5826 - accuracy: 0.7119 - val_loss: 0.5117 - val_accuracy: 0.7220\n",
      "Epoch 5/100\n",
      "97928/97928 [==============================] - 38s 383us/sample - loss: 0.5641 - accuracy: 0.7171 - val_loss: 0.6656 - val_accuracy: 0.6738\n",
      "Epoch 6/100\n",
      "97928/97928 [==============================] - 45s 462us/sample - loss: 0.5234 - accuracy: 0.7280 - val_loss: 0.5066 - val_accuracy: 0.7269\n",
      "Epoch 7/100\n",
      "97928/97928 [==============================] - 41s 419us/sample - loss: 0.5171 - accuracy: 0.7293 - val_loss: 0.4926 - val_accuracy: 0.7335\n",
      "Epoch 8/100\n",
      "97928/97928 [==============================] - 38s 390us/sample - loss: 0.5175 - accuracy: 0.7308 - val_loss: 0.5531 - val_accuracy: 0.6866\n",
      "Epoch 9/100\n",
      "97928/97928 [==============================] - 37s 374us/sample - loss: 0.5130 - accuracy: 0.7288 - val_loss: 0.5260 - val_accuracy: 0.7197\n",
      "Epoch 10/100\n",
      "97928/97928 [==============================] - 43s 434us/sample - loss: 0.5029 - accuracy: 0.7339 - val_loss: 0.5115 - val_accuracy: 0.7255\n",
      "Epoch 11/100\n",
      "97928/97928 [==============================] - 39s 399us/sample - loss: 0.4983 - accuracy: 0.7343 - val_loss: 0.4962 - val_accuracy: 0.7295\n",
      "Epoch 12/100\n",
      "97928/97928 [==============================] - 38s 387us/sample - loss: 0.4944 - accuracy: 0.7370 - val_loss: 0.4838 - val_accuracy: 0.7329\n",
      "Epoch 13/100\n",
      "97928/97928 [==============================] - 42s 428us/sample - loss: 0.4906 - accuracy: 0.7384 - val_loss: 0.4840 - val_accuracy: 0.7347\n",
      "Epoch 14/100\n",
      "97928/97928 [==============================] - 40s 406us/sample - loss: 0.4885 - accuracy: 0.7397 - val_loss: 0.5298 - val_accuracy: 0.7144\n",
      "Epoch 15/100\n",
      "97928/97928 [==============================] - 46s 465us/sample - loss: 0.4852 - accuracy: 0.7407 - val_loss: 0.4885 - val_accuracy: 0.7234\n",
      "Epoch 16/100\n",
      "97928/97928 [==============================] - 41s 416us/sample - loss: 0.4840 - accuracy: 0.7423 - val_loss: 0.4977 - val_accuracy: 0.7137\n",
      "Epoch 17/100\n",
      "97928/97928 [==============================] - 38s 388us/sample - loss: 0.4836 - accuracy: 0.7425 - val_loss: 0.5117 - val_accuracy: 0.7178\n",
      "Epoch 18/100\n",
      "97928/97928 [==============================] - 40s 412us/sample - loss: 0.4837 - accuracy: 0.7423 - val_loss: 0.4849 - val_accuracy: 0.7305\n",
      "Epoch 19/100\n",
      "97928/97928 [==============================] - 39s 402us/sample - loss: 0.4807 - accuracy: 0.7441 - val_loss: 0.4912 - val_accuracy: 0.7302\n",
      "Epoch 20/100\n",
      "97928/97928 [==============================] - 38s 391us/sample - loss: 0.4762 - accuracy: 0.7468 - val_loss: 0.4922 - val_accuracy: 0.7182\n",
      "Epoch 21/100\n",
      "97856/97928 [============================>.] - ETA: 0s - loss: 0.4764 - accuracy: 0.7474"
     ]
    },
    {
     "ename": "KeyboardInterrupt",
     "evalue": "",
     "output_type": "error",
     "traceback": [
      "\u001b[1;31m---------------------------------------------------------------------------\u001b[0m",
      "\u001b[1;31mKeyboardInterrupt\u001b[0m                         Traceback (most recent call last)",
      "\u001b[1;32m<ipython-input-77-2b37336a40b0>\u001b[0m in \u001b[0;36m<module>\u001b[1;34m\u001b[0m\n\u001b[1;32m----> 1\u001b[1;33m \u001b[0mmodel\u001b[0m\u001b[1;33m.\u001b[0m\u001b[0mfit\u001b[0m\u001b[1;33m(\u001b[0m\u001b[0mX\u001b[0m\u001b[1;33m,\u001b[0m \u001b[0my\u001b[0m\u001b[1;33m,\u001b[0m \u001b[0mepochs\u001b[0m\u001b[1;33m=\u001b[0m\u001b[1;36m100\u001b[0m\u001b[1;33m,\u001b[0m \u001b[0mbatch_size\u001b[0m\u001b[1;33m=\u001b[0m\u001b[1;36m32\u001b[0m\u001b[1;33m,\u001b[0m \u001b[0mvalidation_split\u001b[0m \u001b[1;33m=\u001b[0m \u001b[1;36m.2\u001b[0m\u001b[1;33m,\u001b[0m \u001b[0mcallbacks\u001b[0m\u001b[1;33m=\u001b[0m\u001b[1;33m[\u001b[0m\u001b[0mreduce_lr\u001b[0m\u001b[1;33m]\u001b[0m\u001b[1;33m)\u001b[0m\u001b[1;33m\u001b[0m\u001b[1;33m\u001b[0m\u001b[0m\n\u001b[0m",
      "\u001b[1;32mc:\\users\\admin200918\\appdata\\local\\programs\\python\\python37\\lib\\site-packages\\tensorflow\\python\\keras\\engine\\training_v1.py\u001b[0m in \u001b[0;36mfit\u001b[1;34m(self, x, y, batch_size, epochs, verbose, callbacks, validation_split, validation_data, shuffle, class_weight, sample_weight, initial_epoch, steps_per_epoch, validation_steps, validation_freq, max_queue_size, workers, use_multiprocessing, **kwargs)\u001b[0m\n\u001b[0;32m    806\u001b[0m         \u001b[0mmax_queue_size\u001b[0m\u001b[1;33m=\u001b[0m\u001b[0mmax_queue_size\u001b[0m\u001b[1;33m,\u001b[0m\u001b[1;33m\u001b[0m\u001b[1;33m\u001b[0m\u001b[0m\n\u001b[0;32m    807\u001b[0m         \u001b[0mworkers\u001b[0m\u001b[1;33m=\u001b[0m\u001b[0mworkers\u001b[0m\u001b[1;33m,\u001b[0m\u001b[1;33m\u001b[0m\u001b[1;33m\u001b[0m\u001b[0m\n\u001b[1;32m--> 808\u001b[1;33m         use_multiprocessing=use_multiprocessing)\n\u001b[0m\u001b[0;32m    809\u001b[0m \u001b[1;33m\u001b[0m\u001b[0m\n\u001b[0;32m    810\u001b[0m   def evaluate(self,\n",
      "\u001b[1;32mc:\\users\\admin200918\\appdata\\local\\programs\\python\\python37\\lib\\site-packages\\tensorflow\\python\\keras\\engine\\training_arrays_v1.py\u001b[0m in \u001b[0;36mfit\u001b[1;34m(self, model, x, y, batch_size, epochs, verbose, callbacks, validation_split, validation_data, shuffle, class_weight, sample_weight, initial_epoch, steps_per_epoch, validation_steps, validation_freq, **kwargs)\u001b[0m\n\u001b[0;32m    662\u001b[0m         \u001b[0mvalidation_steps\u001b[0m\u001b[1;33m=\u001b[0m\u001b[0mvalidation_steps\u001b[0m\u001b[1;33m,\u001b[0m\u001b[1;33m\u001b[0m\u001b[1;33m\u001b[0m\u001b[0m\n\u001b[0;32m    663\u001b[0m         \u001b[0mvalidation_freq\u001b[0m\u001b[1;33m=\u001b[0m\u001b[0mvalidation_freq\u001b[0m\u001b[1;33m,\u001b[0m\u001b[1;33m\u001b[0m\u001b[1;33m\u001b[0m\u001b[0m\n\u001b[1;32m--> 664\u001b[1;33m         steps_name='steps_per_epoch')\n\u001b[0m\u001b[0;32m    665\u001b[0m \u001b[1;33m\u001b[0m\u001b[0m\n\u001b[0;32m    666\u001b[0m   def evaluate(self,\n",
      "\u001b[1;32mc:\\users\\admin200918\\appdata\\local\\programs\\python\\python37\\lib\\site-packages\\tensorflow\\python\\keras\\engine\\training_arrays_v1.py\u001b[0m in \u001b[0;36mmodel_iteration\u001b[1;34m(model, inputs, targets, sample_weights, batch_size, epochs, verbose, callbacks, val_inputs, val_targets, val_sample_weights, shuffle, initial_epoch, steps_per_epoch, validation_steps, validation_freq, mode, validation_in_fit, prepared_feed_values_from_dataset, steps_name, **kwargs)\u001b[0m\n\u001b[0;32m    427\u001b[0m           \u001b[0mvalidation_in_fit\u001b[0m\u001b[1;33m=\u001b[0m\u001b[1;32mTrue\u001b[0m\u001b[1;33m,\u001b[0m\u001b[1;33m\u001b[0m\u001b[1;33m\u001b[0m\u001b[0m\n\u001b[0;32m    428\u001b[0m           \u001b[0mprepared_feed_values_from_dataset\u001b[0m\u001b[1;33m=\u001b[0m\u001b[1;33m(\u001b[0m\u001b[0mval_iterator\u001b[0m \u001b[1;32mis\u001b[0m \u001b[1;32mnot\u001b[0m \u001b[1;32mNone\u001b[0m\u001b[1;33m)\u001b[0m\u001b[1;33m,\u001b[0m\u001b[1;33m\u001b[0m\u001b[1;33m\u001b[0m\u001b[0m\n\u001b[1;32m--> 429\u001b[1;33m           steps_name='validation_steps')\n\u001b[0m\u001b[0;32m    430\u001b[0m       \u001b[1;32mif\u001b[0m \u001b[1;32mnot\u001b[0m \u001b[0misinstance\u001b[0m\u001b[1;33m(\u001b[0m\u001b[0mval_results\u001b[0m\u001b[1;33m,\u001b[0m \u001b[0mlist\u001b[0m\u001b[1;33m)\u001b[0m\u001b[1;33m:\u001b[0m\u001b[1;33m\u001b[0m\u001b[1;33m\u001b[0m\u001b[0m\n\u001b[0;32m    431\u001b[0m         \u001b[0mval_results\u001b[0m \u001b[1;33m=\u001b[0m \u001b[1;33m[\u001b[0m\u001b[0mval_results\u001b[0m\u001b[1;33m]\u001b[0m\u001b[1;33m\u001b[0m\u001b[1;33m\u001b[0m\u001b[0m\n",
      "\u001b[1;32mc:\\users\\admin200918\\appdata\\local\\programs\\python\\python37\\lib\\site-packages\\tensorflow\\python\\keras\\engine\\training_arrays_v1.py\u001b[0m in \u001b[0;36mmodel_iteration\u001b[1;34m(model, inputs, targets, sample_weights, batch_size, epochs, verbose, callbacks, val_inputs, val_targets, val_sample_weights, shuffle, initial_epoch, steps_per_epoch, validation_steps, validation_freq, mode, validation_in_fit, prepared_feed_values_from_dataset, steps_name, **kwargs)\u001b[0m\n\u001b[0;32m    382\u001b[0m \u001b[1;33m\u001b[0m\u001b[0m\n\u001b[0;32m    383\u001b[0m         \u001b[1;31m# Get outputs.\u001b[0m\u001b[1;33m\u001b[0m\u001b[1;33m\u001b[0m\u001b[1;33m\u001b[0m\u001b[0m\n\u001b[1;32m--> 384\u001b[1;33m         \u001b[0mbatch_outs\u001b[0m \u001b[1;33m=\u001b[0m \u001b[0mf\u001b[0m\u001b[1;33m(\u001b[0m\u001b[0mins_batch\u001b[0m\u001b[1;33m)\u001b[0m\u001b[1;33m\u001b[0m\u001b[1;33m\u001b[0m\u001b[0m\n\u001b[0m\u001b[0;32m    385\u001b[0m         \u001b[1;32mif\u001b[0m \u001b[1;32mnot\u001b[0m \u001b[0misinstance\u001b[0m\u001b[1;33m(\u001b[0m\u001b[0mbatch_outs\u001b[0m\u001b[1;33m,\u001b[0m \u001b[0mlist\u001b[0m\u001b[1;33m)\u001b[0m\u001b[1;33m:\u001b[0m\u001b[1;33m\u001b[0m\u001b[1;33m\u001b[0m\u001b[0m\n\u001b[0;32m    386\u001b[0m           \u001b[0mbatch_outs\u001b[0m \u001b[1;33m=\u001b[0m \u001b[1;33m[\u001b[0m\u001b[0mbatch_outs\u001b[0m\u001b[1;33m]\u001b[0m\u001b[1;33m\u001b[0m\u001b[1;33m\u001b[0m\u001b[0m\n",
      "\u001b[1;32mc:\\users\\admin200918\\appdata\\local\\programs\\python\\python37\\lib\\site-packages\\tensorflow\\python\\keras\\backend.py\u001b[0m in \u001b[0;36m__call__\u001b[1;34m(self, inputs)\u001b[0m\n\u001b[0;32m   3955\u001b[0m \u001b[1;33m\u001b[0m\u001b[0m\n\u001b[0;32m   3956\u001b[0m     fetched = self._callable_fn(*array_vals,\n\u001b[1;32m-> 3957\u001b[1;33m                                 run_metadata=self.run_metadata)\n\u001b[0m\u001b[0;32m   3958\u001b[0m     \u001b[0mself\u001b[0m\u001b[1;33m.\u001b[0m\u001b[0m_call_fetch_callbacks\u001b[0m\u001b[1;33m(\u001b[0m\u001b[0mfetched\u001b[0m\u001b[1;33m[\u001b[0m\u001b[1;33m-\u001b[0m\u001b[0mlen\u001b[0m\u001b[1;33m(\u001b[0m\u001b[0mself\u001b[0m\u001b[1;33m.\u001b[0m\u001b[0m_fetches\u001b[0m\u001b[1;33m)\u001b[0m\u001b[1;33m:\u001b[0m\u001b[1;33m]\u001b[0m\u001b[1;33m)\u001b[0m\u001b[1;33m\u001b[0m\u001b[1;33m\u001b[0m\u001b[0m\n\u001b[0;32m   3959\u001b[0m     output_structure = nest.pack_sequence_as(\n",
      "\u001b[1;32mc:\\users\\admin200918\\appdata\\local\\programs\\python\\python37\\lib\\site-packages\\tensorflow\\python\\client\\session.py\u001b[0m in \u001b[0;36m__call__\u001b[1;34m(self, *args, **kwargs)\u001b[0m\n\u001b[0;32m   1480\u001b[0m         ret = tf_session.TF_SessionRunCallable(self._session._session,\n\u001b[0;32m   1481\u001b[0m                                                \u001b[0mself\u001b[0m\u001b[1;33m.\u001b[0m\u001b[0m_handle\u001b[0m\u001b[1;33m,\u001b[0m \u001b[0margs\u001b[0m\u001b[1;33m,\u001b[0m\u001b[1;33m\u001b[0m\u001b[1;33m\u001b[0m\u001b[0m\n\u001b[1;32m-> 1482\u001b[1;33m                                                run_metadata_ptr)\n\u001b[0m\u001b[0;32m   1483\u001b[0m         \u001b[1;32mif\u001b[0m \u001b[0mrun_metadata\u001b[0m\u001b[1;33m:\u001b[0m\u001b[1;33m\u001b[0m\u001b[1;33m\u001b[0m\u001b[0m\n\u001b[0;32m   1484\u001b[0m           \u001b[0mproto_data\u001b[0m \u001b[1;33m=\u001b[0m \u001b[0mtf_session\u001b[0m\u001b[1;33m.\u001b[0m\u001b[0mTF_GetBuffer\u001b[0m\u001b[1;33m(\u001b[0m\u001b[0mrun_metadata_ptr\u001b[0m\u001b[1;33m)\u001b[0m\u001b[1;33m\u001b[0m\u001b[1;33m\u001b[0m\u001b[0m\n",
      "\u001b[1;31mKeyboardInterrupt\u001b[0m: "
     ]
    }
   ],
   "source": [
    "model.fit(X, y, epochs=100, batch_size=32, validation_split = .2, callbacks=[reduce_lr])"
   ]
  },
  {
   "cell_type": "code",
   "execution_count": 78,
   "metadata": {},
   "outputs": [],
   "source": [
    "opt = keras.optimizers.Adam(learning_rate=0.0001)\n",
    "reduce_lr = ReduceLROnPlateau(monitor='loss', factor=0.2,verbose = 1,\n",
    "                              patience=5, min_lr=0.00000001)\n",
    "\n",
    "model = Sequential()\n",
    "model.add(Dense(8192, activation='relu', input_shape = (103,) ))\n",
    "model.add(Dense(4096, activation='relu'))\n",
    "model.add(Dense(2048, activation='relu'))\n",
    "model.add(Dense(1024, activation='relu'))\n",
    "model.add(Dense(512, activation='relu'))\n",
    "model.add(Dense(256, activation='relu'))\n",
    "model.add(Dense(128, activation='relu'))\n",
    "model.add(Dense(1, activation='sigmoid'))\n",
    "\n",
    "model.compile(optimizer=opt, loss='binary_crossentropy', metrics=['accuracy'])"
   ]
  },
  {
   "cell_type": "code",
   "execution_count": 79,
   "metadata": {},
   "outputs": [
    {
     "name": "stdout",
     "output_type": "stream",
     "text": [
      "Train on 97928 samples, validate on 24482 samples\n",
      "Epoch 1/100\n",
      "11584/97928 [==>...........................] - ETA: 15:54 - loss: 7.7661 - accuracy: 0.5614"
     ]
    },
    {
     "ename": "KeyboardInterrupt",
     "evalue": "",
     "output_type": "error",
     "traceback": [
      "\u001b[1;31m---------------------------------------------------------------------------\u001b[0m",
      "\u001b[1;31mKeyboardInterrupt\u001b[0m                         Traceback (most recent call last)",
      "\u001b[1;32m<ipython-input-79-2b37336a40b0>\u001b[0m in \u001b[0;36m<module>\u001b[1;34m\u001b[0m\n\u001b[1;32m----> 1\u001b[1;33m \u001b[0mmodel\u001b[0m\u001b[1;33m.\u001b[0m\u001b[0mfit\u001b[0m\u001b[1;33m(\u001b[0m\u001b[0mX\u001b[0m\u001b[1;33m,\u001b[0m \u001b[0my\u001b[0m\u001b[1;33m,\u001b[0m \u001b[0mepochs\u001b[0m\u001b[1;33m=\u001b[0m\u001b[1;36m100\u001b[0m\u001b[1;33m,\u001b[0m \u001b[0mbatch_size\u001b[0m\u001b[1;33m=\u001b[0m\u001b[1;36m32\u001b[0m\u001b[1;33m,\u001b[0m \u001b[0mvalidation_split\u001b[0m \u001b[1;33m=\u001b[0m \u001b[1;36m.2\u001b[0m\u001b[1;33m,\u001b[0m \u001b[0mcallbacks\u001b[0m\u001b[1;33m=\u001b[0m\u001b[1;33m[\u001b[0m\u001b[0mreduce_lr\u001b[0m\u001b[1;33m]\u001b[0m\u001b[1;33m)\u001b[0m\u001b[1;33m\u001b[0m\u001b[1;33m\u001b[0m\u001b[0m\n\u001b[0m",
      "\u001b[1;32mc:\\users\\admin200918\\appdata\\local\\programs\\python\\python37\\lib\\site-packages\\tensorflow\\python\\keras\\engine\\training_v1.py\u001b[0m in \u001b[0;36mfit\u001b[1;34m(self, x, y, batch_size, epochs, verbose, callbacks, validation_split, validation_data, shuffle, class_weight, sample_weight, initial_epoch, steps_per_epoch, validation_steps, validation_freq, max_queue_size, workers, use_multiprocessing, **kwargs)\u001b[0m\n\u001b[0;32m    806\u001b[0m         \u001b[0mmax_queue_size\u001b[0m\u001b[1;33m=\u001b[0m\u001b[0mmax_queue_size\u001b[0m\u001b[1;33m,\u001b[0m\u001b[1;33m\u001b[0m\u001b[1;33m\u001b[0m\u001b[0m\n\u001b[0;32m    807\u001b[0m         \u001b[0mworkers\u001b[0m\u001b[1;33m=\u001b[0m\u001b[0mworkers\u001b[0m\u001b[1;33m,\u001b[0m\u001b[1;33m\u001b[0m\u001b[1;33m\u001b[0m\u001b[0m\n\u001b[1;32m--> 808\u001b[1;33m         use_multiprocessing=use_multiprocessing)\n\u001b[0m\u001b[0;32m    809\u001b[0m \u001b[1;33m\u001b[0m\u001b[0m\n\u001b[0;32m    810\u001b[0m   def evaluate(self,\n",
      "\u001b[1;32mc:\\users\\admin200918\\appdata\\local\\programs\\python\\python37\\lib\\site-packages\\tensorflow\\python\\keras\\engine\\training_arrays_v1.py\u001b[0m in \u001b[0;36mfit\u001b[1;34m(self, model, x, y, batch_size, epochs, verbose, callbacks, validation_split, validation_data, shuffle, class_weight, sample_weight, initial_epoch, steps_per_epoch, validation_steps, validation_freq, **kwargs)\u001b[0m\n\u001b[0;32m    662\u001b[0m         \u001b[0mvalidation_steps\u001b[0m\u001b[1;33m=\u001b[0m\u001b[0mvalidation_steps\u001b[0m\u001b[1;33m,\u001b[0m\u001b[1;33m\u001b[0m\u001b[1;33m\u001b[0m\u001b[0m\n\u001b[0;32m    663\u001b[0m         \u001b[0mvalidation_freq\u001b[0m\u001b[1;33m=\u001b[0m\u001b[0mvalidation_freq\u001b[0m\u001b[1;33m,\u001b[0m\u001b[1;33m\u001b[0m\u001b[1;33m\u001b[0m\u001b[0m\n\u001b[1;32m--> 664\u001b[1;33m         steps_name='steps_per_epoch')\n\u001b[0m\u001b[0;32m    665\u001b[0m \u001b[1;33m\u001b[0m\u001b[0m\n\u001b[0;32m    666\u001b[0m   def evaluate(self,\n",
      "\u001b[1;32mc:\\users\\admin200918\\appdata\\local\\programs\\python\\python37\\lib\\site-packages\\tensorflow\\python\\keras\\engine\\training_arrays_v1.py\u001b[0m in \u001b[0;36mmodel_iteration\u001b[1;34m(model, inputs, targets, sample_weights, batch_size, epochs, verbose, callbacks, val_inputs, val_targets, val_sample_weights, shuffle, initial_epoch, steps_per_epoch, validation_steps, validation_freq, mode, validation_in_fit, prepared_feed_values_from_dataset, steps_name, **kwargs)\u001b[0m\n\u001b[0;32m    382\u001b[0m \u001b[1;33m\u001b[0m\u001b[0m\n\u001b[0;32m    383\u001b[0m         \u001b[1;31m# Get outputs.\u001b[0m\u001b[1;33m\u001b[0m\u001b[1;33m\u001b[0m\u001b[1;33m\u001b[0m\u001b[0m\n\u001b[1;32m--> 384\u001b[1;33m         \u001b[0mbatch_outs\u001b[0m \u001b[1;33m=\u001b[0m \u001b[0mf\u001b[0m\u001b[1;33m(\u001b[0m\u001b[0mins_batch\u001b[0m\u001b[1;33m)\u001b[0m\u001b[1;33m\u001b[0m\u001b[1;33m\u001b[0m\u001b[0m\n\u001b[0m\u001b[0;32m    385\u001b[0m         \u001b[1;32mif\u001b[0m \u001b[1;32mnot\u001b[0m \u001b[0misinstance\u001b[0m\u001b[1;33m(\u001b[0m\u001b[0mbatch_outs\u001b[0m\u001b[1;33m,\u001b[0m \u001b[0mlist\u001b[0m\u001b[1;33m)\u001b[0m\u001b[1;33m:\u001b[0m\u001b[1;33m\u001b[0m\u001b[1;33m\u001b[0m\u001b[0m\n\u001b[0;32m    386\u001b[0m           \u001b[0mbatch_outs\u001b[0m \u001b[1;33m=\u001b[0m \u001b[1;33m[\u001b[0m\u001b[0mbatch_outs\u001b[0m\u001b[1;33m]\u001b[0m\u001b[1;33m\u001b[0m\u001b[1;33m\u001b[0m\u001b[0m\n",
      "\u001b[1;32mc:\\users\\admin200918\\appdata\\local\\programs\\python\\python37\\lib\\site-packages\\tensorflow\\python\\keras\\backend.py\u001b[0m in \u001b[0;36m__call__\u001b[1;34m(self, inputs)\u001b[0m\n\u001b[0;32m   3955\u001b[0m \u001b[1;33m\u001b[0m\u001b[0m\n\u001b[0;32m   3956\u001b[0m     fetched = self._callable_fn(*array_vals,\n\u001b[1;32m-> 3957\u001b[1;33m                                 run_metadata=self.run_metadata)\n\u001b[0m\u001b[0;32m   3958\u001b[0m     \u001b[0mself\u001b[0m\u001b[1;33m.\u001b[0m\u001b[0m_call_fetch_callbacks\u001b[0m\u001b[1;33m(\u001b[0m\u001b[0mfetched\u001b[0m\u001b[1;33m[\u001b[0m\u001b[1;33m-\u001b[0m\u001b[0mlen\u001b[0m\u001b[1;33m(\u001b[0m\u001b[0mself\u001b[0m\u001b[1;33m.\u001b[0m\u001b[0m_fetches\u001b[0m\u001b[1;33m)\u001b[0m\u001b[1;33m:\u001b[0m\u001b[1;33m]\u001b[0m\u001b[1;33m)\u001b[0m\u001b[1;33m\u001b[0m\u001b[1;33m\u001b[0m\u001b[0m\n\u001b[0;32m   3959\u001b[0m     output_structure = nest.pack_sequence_as(\n",
      "\u001b[1;32mc:\\users\\admin200918\\appdata\\local\\programs\\python\\python37\\lib\\site-packages\\tensorflow\\python\\client\\session.py\u001b[0m in \u001b[0;36m__call__\u001b[1;34m(self, *args, **kwargs)\u001b[0m\n\u001b[0;32m   1480\u001b[0m         ret = tf_session.TF_SessionRunCallable(self._session._session,\n\u001b[0;32m   1481\u001b[0m                                                \u001b[0mself\u001b[0m\u001b[1;33m.\u001b[0m\u001b[0m_handle\u001b[0m\u001b[1;33m,\u001b[0m \u001b[0margs\u001b[0m\u001b[1;33m,\u001b[0m\u001b[1;33m\u001b[0m\u001b[1;33m\u001b[0m\u001b[0m\n\u001b[1;32m-> 1482\u001b[1;33m                                                run_metadata_ptr)\n\u001b[0m\u001b[0;32m   1483\u001b[0m         \u001b[1;32mif\u001b[0m \u001b[0mrun_metadata\u001b[0m\u001b[1;33m:\u001b[0m\u001b[1;33m\u001b[0m\u001b[1;33m\u001b[0m\u001b[0m\n\u001b[0;32m   1484\u001b[0m           \u001b[0mproto_data\u001b[0m \u001b[1;33m=\u001b[0m \u001b[0mtf_session\u001b[0m\u001b[1;33m.\u001b[0m\u001b[0mTF_GetBuffer\u001b[0m\u001b[1;33m(\u001b[0m\u001b[0mrun_metadata_ptr\u001b[0m\u001b[1;33m)\u001b[0m\u001b[1;33m\u001b[0m\u001b[1;33m\u001b[0m\u001b[0m\n",
      "\u001b[1;31mKeyboardInterrupt\u001b[0m: "
     ]
    }
   ],
   "source": [
    "model.fit(X, y, epochs=100, batch_size=32, validation_split = .2, callbacks=[reduce_lr])"
   ]
  },
  {
   "cell_type": "code",
   "execution_count": null,
   "metadata": {},
   "outputs": [],
   "source": []
  },
  {
   "cell_type": "code",
   "execution_count": 35,
   "metadata": {},
   "outputs": [],
   "source": [
    "opt = keras.optimizers.Adam(learning_rate=0.00001)\n",
    "\n",
    "model = Sequential()\n",
    "model.add(Dense(100000, activation='relu', input_shape = (103,) ))\n",
    "model.add(Dense(1, activation='sigmoid'))\n",
    "\n",
    "model.compile(optimizer=opt, loss='binary_crossentropy', metrics=['accuracy'])"
   ]
  },
  {
   "cell_type": "code",
   "execution_count": 36,
   "metadata": {},
   "outputs": [
    {
     "name": "stdout",
     "output_type": "stream",
     "text": [
      "Train on 97928 samples, validate on 24482 samples\n",
      "Epoch 1/10\n",
      "97928/97928 [==============================] - 205s 2ms/sample - loss: 3.5953 - accuracy: 0.6755 - val_loss: 1.7180 - val_accuracy: 0.7216\n",
      "Epoch 2/10\n",
      "97928/97928 [==============================] - 137s 1ms/sample - loss: 3.4184 - accuracy: 0.6861 - val_loss: 4.3559 - val_accuracy: 0.6386\n",
      "Epoch 3/10\n",
      "97928/97928 [==============================] - 137s 1ms/sample - loss: 3.6748 - accuracy: 0.6889 - val_loss: 7.6492 - val_accuracy: 0.5763\n",
      "Epoch 4/10\n",
      "97928/97928 [==============================] - 140s 1ms/sample - loss: 3.1856 - accuracy: 0.6941 - val_loss: 2.0793 - val_accuracy: 0.7050\n",
      "Epoch 5/10\n",
      "29504/97928 [========>.....................] - ETA: 1:30 - loss: 3.1794 - accuracy: 0.6951"
     ]
    },
    {
     "ename": "KeyboardInterrupt",
     "evalue": "",
     "output_type": "error",
     "traceback": [
      "\u001b[1;31m---------------------------------------------------------------------------\u001b[0m",
      "\u001b[1;31mKeyboardInterrupt\u001b[0m                         Traceback (most recent call last)",
      "\u001b[1;32m<ipython-input-36-1d7ac60f2c72>\u001b[0m in \u001b[0;36m<module>\u001b[1;34m\u001b[0m\n\u001b[1;32m----> 1\u001b[1;33m \u001b[0mmodel\u001b[0m\u001b[1;33m.\u001b[0m\u001b[0mfit\u001b[0m\u001b[1;33m(\u001b[0m\u001b[0mX\u001b[0m\u001b[1;33m,\u001b[0m \u001b[0my\u001b[0m\u001b[1;33m,\u001b[0m \u001b[0mepochs\u001b[0m\u001b[1;33m=\u001b[0m\u001b[1;36m10\u001b[0m\u001b[1;33m,\u001b[0m \u001b[0mbatch_size\u001b[0m\u001b[1;33m=\u001b[0m\u001b[1;36m32\u001b[0m\u001b[1;33m,\u001b[0m \u001b[0mvalidation_split\u001b[0m \u001b[1;33m=\u001b[0m \u001b[1;36m.2\u001b[0m\u001b[1;33m)\u001b[0m\u001b[1;33m\u001b[0m\u001b[1;33m\u001b[0m\u001b[0m\n\u001b[0m",
      "\u001b[1;32mc:\\users\\admin200918\\appdata\\local\\programs\\python\\python37\\lib\\site-packages\\tensorflow\\python\\keras\\engine\\training_v1.py\u001b[0m in \u001b[0;36mfit\u001b[1;34m(self, x, y, batch_size, epochs, verbose, callbacks, validation_split, validation_data, shuffle, class_weight, sample_weight, initial_epoch, steps_per_epoch, validation_steps, validation_freq, max_queue_size, workers, use_multiprocessing, **kwargs)\u001b[0m\n\u001b[0;32m    806\u001b[0m         \u001b[0mmax_queue_size\u001b[0m\u001b[1;33m=\u001b[0m\u001b[0mmax_queue_size\u001b[0m\u001b[1;33m,\u001b[0m\u001b[1;33m\u001b[0m\u001b[1;33m\u001b[0m\u001b[0m\n\u001b[0;32m    807\u001b[0m         \u001b[0mworkers\u001b[0m\u001b[1;33m=\u001b[0m\u001b[0mworkers\u001b[0m\u001b[1;33m,\u001b[0m\u001b[1;33m\u001b[0m\u001b[1;33m\u001b[0m\u001b[0m\n\u001b[1;32m--> 808\u001b[1;33m         use_multiprocessing=use_multiprocessing)\n\u001b[0m\u001b[0;32m    809\u001b[0m \u001b[1;33m\u001b[0m\u001b[0m\n\u001b[0;32m    810\u001b[0m   def evaluate(self,\n",
      "\u001b[1;32mc:\\users\\admin200918\\appdata\\local\\programs\\python\\python37\\lib\\site-packages\\tensorflow\\python\\keras\\engine\\training_arrays_v1.py\u001b[0m in \u001b[0;36mfit\u001b[1;34m(self, model, x, y, batch_size, epochs, verbose, callbacks, validation_split, validation_data, shuffle, class_weight, sample_weight, initial_epoch, steps_per_epoch, validation_steps, validation_freq, **kwargs)\u001b[0m\n\u001b[0;32m    662\u001b[0m         \u001b[0mvalidation_steps\u001b[0m\u001b[1;33m=\u001b[0m\u001b[0mvalidation_steps\u001b[0m\u001b[1;33m,\u001b[0m\u001b[1;33m\u001b[0m\u001b[1;33m\u001b[0m\u001b[0m\n\u001b[0;32m    663\u001b[0m         \u001b[0mvalidation_freq\u001b[0m\u001b[1;33m=\u001b[0m\u001b[0mvalidation_freq\u001b[0m\u001b[1;33m,\u001b[0m\u001b[1;33m\u001b[0m\u001b[1;33m\u001b[0m\u001b[0m\n\u001b[1;32m--> 664\u001b[1;33m         steps_name='steps_per_epoch')\n\u001b[0m\u001b[0;32m    665\u001b[0m \u001b[1;33m\u001b[0m\u001b[0m\n\u001b[0;32m    666\u001b[0m   def evaluate(self,\n",
      "\u001b[1;32mc:\\users\\admin200918\\appdata\\local\\programs\\python\\python37\\lib\\site-packages\\tensorflow\\python\\keras\\engine\\training_arrays_v1.py\u001b[0m in \u001b[0;36mmodel_iteration\u001b[1;34m(model, inputs, targets, sample_weights, batch_size, epochs, verbose, callbacks, val_inputs, val_targets, val_sample_weights, shuffle, initial_epoch, steps_per_epoch, validation_steps, validation_freq, mode, validation_in_fit, prepared_feed_values_from_dataset, steps_name, **kwargs)\u001b[0m\n\u001b[0;32m    382\u001b[0m \u001b[1;33m\u001b[0m\u001b[0m\n\u001b[0;32m    383\u001b[0m         \u001b[1;31m# Get outputs.\u001b[0m\u001b[1;33m\u001b[0m\u001b[1;33m\u001b[0m\u001b[1;33m\u001b[0m\u001b[0m\n\u001b[1;32m--> 384\u001b[1;33m         \u001b[0mbatch_outs\u001b[0m \u001b[1;33m=\u001b[0m \u001b[0mf\u001b[0m\u001b[1;33m(\u001b[0m\u001b[0mins_batch\u001b[0m\u001b[1;33m)\u001b[0m\u001b[1;33m\u001b[0m\u001b[1;33m\u001b[0m\u001b[0m\n\u001b[0m\u001b[0;32m    385\u001b[0m         \u001b[1;32mif\u001b[0m \u001b[1;32mnot\u001b[0m \u001b[0misinstance\u001b[0m\u001b[1;33m(\u001b[0m\u001b[0mbatch_outs\u001b[0m\u001b[1;33m,\u001b[0m \u001b[0mlist\u001b[0m\u001b[1;33m)\u001b[0m\u001b[1;33m:\u001b[0m\u001b[1;33m\u001b[0m\u001b[1;33m\u001b[0m\u001b[0m\n\u001b[0;32m    386\u001b[0m           \u001b[0mbatch_outs\u001b[0m \u001b[1;33m=\u001b[0m \u001b[1;33m[\u001b[0m\u001b[0mbatch_outs\u001b[0m\u001b[1;33m]\u001b[0m\u001b[1;33m\u001b[0m\u001b[1;33m\u001b[0m\u001b[0m\n",
      "\u001b[1;32mc:\\users\\admin200918\\appdata\\local\\programs\\python\\python37\\lib\\site-packages\\tensorflow\\python\\keras\\backend.py\u001b[0m in \u001b[0;36m__call__\u001b[1;34m(self, inputs)\u001b[0m\n\u001b[0;32m   3955\u001b[0m \u001b[1;33m\u001b[0m\u001b[0m\n\u001b[0;32m   3956\u001b[0m     fetched = self._callable_fn(*array_vals,\n\u001b[1;32m-> 3957\u001b[1;33m                                 run_metadata=self.run_metadata)\n\u001b[0m\u001b[0;32m   3958\u001b[0m     \u001b[0mself\u001b[0m\u001b[1;33m.\u001b[0m\u001b[0m_call_fetch_callbacks\u001b[0m\u001b[1;33m(\u001b[0m\u001b[0mfetched\u001b[0m\u001b[1;33m[\u001b[0m\u001b[1;33m-\u001b[0m\u001b[0mlen\u001b[0m\u001b[1;33m(\u001b[0m\u001b[0mself\u001b[0m\u001b[1;33m.\u001b[0m\u001b[0m_fetches\u001b[0m\u001b[1;33m)\u001b[0m\u001b[1;33m:\u001b[0m\u001b[1;33m]\u001b[0m\u001b[1;33m)\u001b[0m\u001b[1;33m\u001b[0m\u001b[1;33m\u001b[0m\u001b[0m\n\u001b[0;32m   3959\u001b[0m     output_structure = nest.pack_sequence_as(\n",
      "\u001b[1;32mc:\\users\\admin200918\\appdata\\local\\programs\\python\\python37\\lib\\site-packages\\tensorflow\\python\\client\\session.py\u001b[0m in \u001b[0;36m__call__\u001b[1;34m(self, *args, **kwargs)\u001b[0m\n\u001b[0;32m   1480\u001b[0m         ret = tf_session.TF_SessionRunCallable(self._session._session,\n\u001b[0;32m   1481\u001b[0m                                                \u001b[0mself\u001b[0m\u001b[1;33m.\u001b[0m\u001b[0m_handle\u001b[0m\u001b[1;33m,\u001b[0m \u001b[0margs\u001b[0m\u001b[1;33m,\u001b[0m\u001b[1;33m\u001b[0m\u001b[1;33m\u001b[0m\u001b[0m\n\u001b[1;32m-> 1482\u001b[1;33m                                                run_metadata_ptr)\n\u001b[0m\u001b[0;32m   1483\u001b[0m         \u001b[1;32mif\u001b[0m \u001b[0mrun_metadata\u001b[0m\u001b[1;33m:\u001b[0m\u001b[1;33m\u001b[0m\u001b[1;33m\u001b[0m\u001b[0m\n\u001b[0;32m   1484\u001b[0m           \u001b[0mproto_data\u001b[0m \u001b[1;33m=\u001b[0m \u001b[0mtf_session\u001b[0m\u001b[1;33m.\u001b[0m\u001b[0mTF_GetBuffer\u001b[0m\u001b[1;33m(\u001b[0m\u001b[0mrun_metadata_ptr\u001b[0m\u001b[1;33m)\u001b[0m\u001b[1;33m\u001b[0m\u001b[1;33m\u001b[0m\u001b[0m\n",
      "\u001b[1;31mKeyboardInterrupt\u001b[0m: "
     ]
    }
   ],
   "source": [
    "model.fit(X, y, epochs=10, batch_size=32, validation_split = .2)"
   ]
  },
  {
   "cell_type": "code",
   "execution_count": null,
   "metadata": {},
   "outputs": [],
   "source": []
  },
  {
   "cell_type": "code",
   "execution_count": null,
   "metadata": {},
   "outputs": [],
   "source": []
  }
 ],
 "metadata": {
  "kernelspec": {
   "display_name": "Python 3",
   "language": "python",
   "name": "python3"
  },
  "language_info": {
   "codemirror_mode": {
    "name": "ipython",
    "version": 3
   },
   "file_extension": ".py",
   "mimetype": "text/x-python",
   "name": "python",
   "nbconvert_exporter": "python",
   "pygments_lexer": "ipython3",
   "version": "3.7.9"
  }
 },
 "nbformat": 4,
 "nbformat_minor": 4
}
